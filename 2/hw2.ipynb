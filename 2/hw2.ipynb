{
 "cells": [
  {
   "cell_type": "code",
   "execution_count": 2,
   "id": "a10c0aae",
   "metadata": {},
   "outputs": [],
   "source": [
    "# From CS111 in-class transcript from Lecture 2, January 9, 2020\n",
    "import sys\n",
    "\n",
    "sys.path.append(\"/Users/Mike/desktop/UCSB/CS/CS111/cs111-2021-fall/Python\") \n",
    "\n",
    "import os\n",
    "import time\n",
    "import math\n",
    "import numpy as np\n",
    "import numpy.linalg as npla\n",
    "import scipy\n",
    "from scipy import linalg as spla\n",
    "import scipy.sparse\n",
    "import scipy.sparse.linalg\n",
    "from scipy import integrate\n",
    "import matplotlib.pyplot as plt\n",
    "from matplotlib import cm\n",
    "from mpl_toolkits.mplot3d import axes3d\n",
    "import cs111\n",
    "\n",
    "%matplotlib inline\n",
    "\n",
    "np.set_printoptions(precision = 4)"
   ]
  },
  {
   "cell_type": "code",
   "execution_count": 7,
   "id": "7f3a5d9b",
   "metadata": {},
   "outputs": [],
   "source": [
    "#############################################################################\n",
    "# Make the temperature matrix (discrete Laplacian operator) in 2 dimensions #\n",
    "#############################################################################\n",
    "\n",
    "def make_A(k):\n",
    "    \"\"\"Create the matrix of the discrete Laplacian operator in two dimensions on a k-by-k grid.\n",
    "    Parameters: \n",
    "      k: number of grid points in each dimension.\n",
    "    Outputs:\n",
    "      A: the sparse k**2-by-k**2 matrix representing the finite difference approximation to Laplace's equation.\n",
    "    \"\"\"\n",
    "    # First make a list with one triple (row, column, value) for each nonzero element of A\n",
    "    triples = []\n",
    "    for x in range(k):\n",
    "        for y in range(k):\n",
    "                \n",
    "            # what row of the matrix is grid point (x,y)?\n",
    "            row = x + k*y\n",
    "\n",
    "            # the diagonal element in this row\n",
    "            col = row\n",
    "            triples.append((row, col, 4.0))\n",
    "            # connect to grid neighbors in x dimension\n",
    "            if x > 0:\n",
    "                col = row - 1\n",
    "                triples.append((row, col, -1.0))\n",
    "            if x < k - 1:\n",
    "                col = row + 1\n",
    "                triples.append((row, col, -1.0))\n",
    "            # connect to grid neighbors in y dimension\n",
    "            if y > 0:\n",
    "                col = row - k\n",
    "                triples.append((row, col, -1.0))\n",
    "            if y < k - 1:\n",
    "                col = row + k\n",
    "                triples.append((row, col, -1.0))\n",
    "\n",
    "    # Finally convert the list of triples to a scipy sparse matrix\n",
    "    ndim = k*k\n",
    "    rownum = [t[0] for t in triples]\n",
    "    colnum = [t[1] for t in triples]\n",
    "    values = [t[2] for t in triples]\n",
    "    A = scipy.sparse.csr_matrix((values, (rownum, colnum)), shape = (ndim, ndim))\n",
    "    \n",
    "    return A \n",
    "# end of make_A\n"
   ]
  },
  {
   "cell_type": "code",
   "execution_count": 6,
   "id": "60a5cfc0",
   "metadata": {},
   "outputs": [],
   "source": [
    "#############################################################################\n",
    "# Make the temperature matrix (discrete Laplacian operator) in 3 dimensions #\n",
    "#############################################################################\n",
    "def make_A_3D(k):\n",
    "    \"\"\"Create the matrix for the 3-dimensional temperature problem on a k-by-k-by-k grid.\n",
    "    Parameters: \n",
    "      k: number of grid points in each dimension.\n",
    "    Outputs:\n",
    "      A: the sparse k**3-by-k**3 matrix representing the finite difference approximation to Poisson's equation.\n",
    "    \"\"\"\n",
    "    # Withheld for now\n",
    "\n",
    "    return None\n",
    "# end of make_A_3D"
   ]
  },
  {
   "cell_type": "code",
   "execution_count": 5,
   "id": "65092deb",
   "metadata": {},
   "outputs": [],
   "source": [
    "#############################################################################\n",
    "# Make a 16-by-16 version of the temperature matrix for demos               #\n",
    "#############################################################################\n",
    "\n",
    "def make_A_small():\n",
    "    \"\"\"Make a small k=4 version of the temperature matrix, as a dense array\"\"\"\n",
    "    A = make_A(4)\n",
    "    return A.toarray()\n",
    "# end of make_A_small\n"
   ]
  },
  {
   "cell_type": "code",
   "execution_count": 8,
   "id": "c691a50c",
   "metadata": {},
   "outputs": [],
   "source": [
    "#############################################################################\n",
    "# Make a right-hand side vector for the 2D Laplacian / temperature matrix   #\n",
    "#############################################################################\n",
    "\n",
    "def make_b(k, top = 32, bottom = 32, left = 32, right = 32):\n",
    "    \"\"\"Create the right-hand side for the temperature problem on a k-by-k grid.\n",
    "    Parameters: \n",
    "      k: number of grid points in each dimension.\n",
    "      top: list of k values for top boundary (optional, defaults to 32)\n",
    "      bottom: list of k values for bottom boundary (optional, defaults to 32)\n",
    "      left: list of k values for top boundary (optional, defaults to 32)\n",
    "      right: list of k values for top boundary (optional, defaults to 32)\n",
    "    Outputs:\n",
    "      b: the k**2 element vector (as a numpy array) for the rhs of the\n",
    "      Poisson equation with given boundary conditions\n",
    "    \"\"\"\n",
    "    # Start with a vector of zeros\n",
    "    ndim = k*k\n",
    "    b = np.zeros(shape = ndim)\n",
    "    \n",
    "    # Fill in the four boundaries as appropriate\n",
    "    b[0        : k       ] += top\n",
    "    b[ndim - k : ndim    ] += bottom\n",
    "    b[0        : ndim : k] += left\n",
    "    b[k-1      : ndim : k] += right\n",
    "    \n",
    "    return b\n",
    "# end of make_b\n"
   ]
  },
  {
   "cell_type": "code",
   "execution_count": 9,
   "id": "fd96cc12",
   "metadata": {},
   "outputs": [],
   "source": [
    "#############################################################################\n",
    "# Make a size-16 version of the right-hand side for demos                   #\n",
    "#############################################################################\n",
    "\n",
    "def make_b_small():\n",
    "    \"\"\"Make a small k=4 version of the right-hand side vector\"\"\"\n",
    "    return make_b(4, top=radiator(4))\n",
    "# End of make_b_small"
   ]
  },
  {
   "cell_type": "code",
   "execution_count": 10,
   "id": "1188d357",
   "metadata": {},
   "outputs": [],
   "source": [
    "#############################################################################\n",
    "# Make one wall with a radiator                                             #\n",
    "#############################################################################\n",
    "\n",
    "def radiator(k, width = .3, rad_temp = 212., wall_temp = 32.):\n",
    "    \"\"\"Create one wall with a radiator\n",
    "    Parameters: \n",
    "      k: number of grid points in each dimension; length of the wall\n",
    "      width: width of the radiator as a fraction of length of the wall \n",
    "      rad_temp:  temperature of the radiator (default 212)\n",
    "      wall_temp: temperature of the wall outside the radiator (default 32)\n",
    "    Outputs:\n",
    "      wall: the k element vector (as a numpy array) for the boundary conditions at the wall\n",
    "    \"\"\"\n",
    "    rad_start = int(k * (0.5 - width/2))\n",
    "    rad_end = int(k * (0.5 + width/2))\n",
    "    wall = wall_temp * np.ones(k)\n",
    "    wall[rad_start : rad_end] = rad_temp\n",
    "    \n",
    "    return wall\n",
    "# End of radiator"
   ]
  },
  {
   "cell_type": "markdown",
   "id": "41020cbd",
   "metadata": {},
   "source": [
    "## Homework 2 Problem 1"
   ]
  },
  {
   "cell_type": "code",
   "execution_count": 16,
   "id": "4f72ebe9",
   "metadata": {},
   "outputs": [],
   "source": [
    "k = 100\n",
    "A = cs111.make_A(k)\n",
    "rad_rad = cs111.radiator(k, width = .15, rad_temp = 32., wall_temp = 400.)\n",
    "\n",
    "b = cs111.make_b(k, rad_rad, rad_rad, rad_rad, rad_rad)\n",
    "x = scipy.sparse.linalg.spsolve(A,b) # ugly!"
   ]
  },
  {
   "cell_type": "code",
   "execution_count": 10,
   "id": "b413e12f",
   "metadata": {},
   "outputs": [
    {
     "data": {
      "text/plain": [
       "Text(0.5, 1.0, '2-dimensional Poisson equation (temperature)')"
      ]
     },
     "execution_count": 10,
     "metadata": {},
     "output_type": "execute_result"
    },
    {
     "data": {
      "image/png": "[encoded data removed]",
      "text/plain": [
       "<Figure size 432x288 with 1 Axes>"
      ]
     },
     "metadata": {
      "needs_background": "light"
     },
     "output_type": "display_data"
    }
   ],
   "source": [
    "T = x.reshape(k, k)\n",
    "plt.figure()\n",
    "plt.imshow(T, cmap=cm.hot)\n",
    "plt.xlabel('x0')\n",
    "plt.ylabel('x1')\n",
    "plt.title('2-dimensional Poisson equation (temperature)')"
   ]
  },
  {
   "cell_type": "markdown",
   "id": "24ed9adb",
   "metadata": {},
   "source": [
    "## Homework 2 Problem 2"
   ]
  },
  {
   "cell_type": "code",
   "execution_count": 354,
   "id": "4259ad57",
   "metadata": {},
   "outputs": [
    {
     "name": "stdout",
     "output_type": "stream",
     "text": [
      "First 100 elements: \n",
      " [5. 1. 1. 1. 1. 1. 1. 1. 1. 1. 1. 1. 1. 1. 1. 1. 1. 1. 1. 1. 1. 1. 1. 1.\n",
      " 1. 1. 1. 1. 1. 1. 1. 1. 1. 1. 1. 1. 1. 1. 1. 1. 1. 1. 1. 1. 1. 1. 1. 1.\n",
      " 1. 1. 1. 1. 1. 1. 1. 1. 1. 1. 1. 1. 1. 1. 1. 1. 1. 1. 1. 1. 1. 1. 1. 1.\n",
      " 1. 1. 1. 1. 1. 1. 1. 1. 1. 1. 1. 1. 1. 1. 1. 1. 1. 1. 1. 1. 1. 1. 1. 1.\n",
      " 1. 1. 1. 9.]\n",
      "Last 100 elements: \n",
      " [ 6.  2.  2.  2.  2.  2.  2.  2.  2.  2.  2.  2.  2.  2.  2.  2.  2.  2.\n",
      "  2.  2.  2.  2.  2.  2.  2.  2.  2.  2.  2.  2.  2.  2.  2.  2.  2.  2.\n",
      "  2.  2.  2.  2.  2.  2.  2.  2.  2.  2.  2.  2.  2.  2.  2.  2.  2.  2.\n",
      "  2.  2.  2.  2.  2.  2.  2.  2.  2.  2.  2.  2.  2.  2.  2.  2.  2.  2.\n",
      "  2.  2.  2.  2.  2.  2.  2.  2.  2.  2.  2.  2.  2.  2.  2.  2.  2.  2.\n",
      "  2.  2.  2.  2.  2.  2.  2.  2.  2. 10.]\n",
      "Number of nonzero elements in b:  396\n",
      "Number of zero elements in b:  9604\n"
     ]
    }
   ],
   "source": [
    "ndim = k*k\n",
    "b = np.zeros(shape = ndim)\n",
    "\n",
    "# Fill in the four boundaries as appropriate\n",
    "b[0        : k       ] += 1 # first 100 elements (0-99)\n",
    "b[ndim - k : ndim    ] += 2 # last 100 elements (9900-9999)\n",
    "b[0        : ndim : k] += 4 # every 100 elements from 0 to 9900\n",
    "b[k-1      : ndim : k] += 8 # every 100 elements from 99 to 9999\n",
    "\n",
    "print(\"First 100 elements: \\n\", b[0        : k       ])\n",
    "print(\"Last 100 elements: \\n\", b[ndim - k : ndim    ])\n",
    "print(\"Number of nonzero elements in b: \", np.count_nonzero(b))\n",
    "print(\"Number of zero elements in b: \", len(b) - np.count_nonzero(b))"
   ]
  },
  {
   "cell_type": "markdown",
   "id": "12468df1",
   "metadata": {},
   "source": [
    "## Homework 2 Problem 3"
   ]
  },
  {
   "cell_type": "code",
   "execution_count": 4,
   "id": "7e6c42fa",
   "metadata": {},
   "outputs": [
    {
     "name": "stdout",
     "output_type": "stream",
     "text": [
      "[[0 1 0 0]\n",
      " [0 0 0 1]\n",
      " [0 0 1 0]\n",
      " [1 0 0 0]] \n",
      "yomp\n",
      "[[0 0 0 1]\n",
      " [1 0 0 0]\n",
      " [0 0 1 0]\n",
      " [0 1 0 0]]\n",
      "Loop finished successfully\n"
     ]
    }
   ],
   "source": [
    "P = np.array([[0,1,0,0], [0,0,0,1], [0,0,1,0], [1,0,0,0]])\n",
    "print(P, \"\\nyomp\")\n",
    "print(P.T)\n",
    "v = np.array([1,3,2,0])\n",
    "w = np.array([3,0,2,1])\n",
    "\n",
    "# Testing v and w on a few randomized 4x4 matrices:\n",
    "for i in range(100000):\n",
    "    A = np.random.random((4, 4))\n",
    "    if (not ((A[v,:]) == P@A).all()):\n",
    "        print(\"vector v is wrong: \\n\", A[v,:], \"\\n does not equal to \\n\", P @ A)\n",
    "    if (not ((A[:,w]) == A@P).all()):\n",
    "        print(\"vector w is wrong: \\n\", A[:,w], \"\\n does not equal to \\n\", A @ P)\n",
    "print(\"Loop finished successfully\")"
   ]
  },
  {
   "cell_type": "markdown",
   "id": "b98fa320",
   "metadata": {},
   "source": [
    "## Homework 2 Problem 4"
   ]
  },
  {
   "cell_type": "code",
   "execution_count": 18,
   "id": "b393daab",
   "metadata": {},
   "outputs": [],
   "source": [
    "def Usolve(U, y, unit_diag=False):\n",
    "    # Check the input\n",
    "    m, n = U.shape\n",
    "    assert m == n, \"matrix U must be square\"\n",
    "    assert np.all(np.triu(U) == U), \"matrix U must be upper triangular\"\n",
    "    assert np.all(np.diag(U) != 0), \"matrix U must have nonzeroes on the diagonal\"\n",
    "    \n",
    "    # Make a copy of the rhs that we will transform into the solution\n",
    "    assert y.ndim == 1, \"right-hand side must be a 1-dimensional vector\"\n",
    "    assert y.shape[0] == n, \"right-hand side must be same size as matrix\"\n",
    "    x = y.astype(np.float64).copy()\n",
    "    \n",
    "    # Backward solve\n",
    "    for col in reversed(range(n)):\n",
    "        x[col] = (x[col] - (U[col, col+1:] @ x[col+1:])) / U[col, col]\n",
    "\n",
    "    return x "
   ]
  },
  {
   "cell_type": "code",
   "execution_count": 19,
   "id": "2d28e7c5",
   "metadata": {},
   "outputs": [],
   "source": [
    "# LU function that uses cs111.LUfactor(), cs111.Lsolve(), and my Usolve()\n",
    "def LUsolve(A, b, pivoting=True):\n",
    "    \"\"\"Solve a linear system Ax = b for x by LU factorization with partial pivoting.\n",
    "    Parameters: \n",
    "      A: the matrix.\n",
    "      b: the right-hand side\n",
    "      pivoting: if False, don't do partial pivoting\n",
    "    Outputs (in order):\n",
    "      x: the computed solution\n",
    "      rel_res: relative residual norm,\n",
    "        norm(b - Ax) / norm(b)\n",
    "    \"\"\"\n",
    "    \n",
    "    # Check the input\n",
    "    m, n = A.shape\n",
    "    assert m == n, 'input matrix A must be square'\n",
    "    \n",
    "    # LU factorization\n",
    "    L, U, p = cs111.LUfactor(A, pivoting=pivoting)\n",
    "    \n",
    "    # Forward and back substitution\n",
    "    y = cs111.Lsolve(L, b[p])\n",
    "    x = Usolve(U, y)\n",
    "    \n",
    "    # Residual norm\n",
    "    rel_res = npla.norm(b - A@x) / npla.norm(b)\n",
    "    \n",
    "    return (x, rel_res)\n",
    "# end of LUsolve"
   ]
  },
  {
   "cell_type": "code",
   "execution_count": 20,
   "id": "c03a46a7",
   "metadata": {},
   "outputs": [
    {
     "name": "stdout",
     "output_type": "stream",
     "text": [
      "Loop 1 finished successfully\n",
      "Loop 2 finished successfully\n"
     ]
    }
   ],
   "source": [
    "# testing Usolve() on its own:\n",
    "for i in range(10000):\n",
    "    b = np.random.rand(4)\n",
    "    U = np.triu(np.random.random((4,4)))\n",
    "    \n",
    "    answer = np.around(scipy.sparse.linalg.spsolve(U,b),3) # ugly!\n",
    "    our_answer = np.around(Usolve(U, b),3)\n",
    "    \n",
    "    if(not (answer==our_answer).all()):\n",
    "        print(\"Something's wrong with loop 1.\")\n",
    "print(\"Loop 1 finished successfully\")\n",
    "\n",
    "# testing Usolve() with LUsolve():\n",
    "for i in range(10000):\n",
    "    b = np.random.rand(4)\n",
    "    U = np.triu(np.random.random((4,4)))\n",
    "    our_answer, rel_res = LUsolve(U, b)\n",
    "\n",
    "    if(rel_res > 0.0001):\n",
    "        print(\"Something's wrong with loop 2.\")\n",
    "print(\"Loop 2 finished successfully\")"
   ]
  },
  {
   "cell_type": "markdown",
   "id": "0debc5c4",
   "metadata": {},
   "source": [
    "# Joosh Function"
   ]
  },
  {
   "cell_type": "code",
   "execution_count": 21,
   "id": "3607db20",
   "metadata": {},
   "outputs": [],
   "source": [
    "def chop(number, chop):\n",
    "    num = str(number)\n",
    "    maxlen = len(number)\n",
    "    if(num[0] == '0'):\n",
    "        temp = 0\n",
    "        for i in num:\n",
    "            if(i != '0' and i != '.'):\n",
    "                break\n",
    "            temp += 1\n",
    "        if(temp + chop >= maxlen):\n",
    "            return num\n",
    "        return num[:temp + chop]\n",
    "    else:\n",
    "        if('.' in num[:chop]):\n",
    "            if(chop + 1 >= maxlen):\n",
    "                return num\n",
    "            return num[:chop + 1]\n",
    "        return num[:chop]"
   ]
  },
  {
   "cell_type": "code",
   "execution_count": 8,
   "id": "dee40c8e",
   "metadata": {},
   "outputs": [],
   "source": [
    "A = np.random.rand(6,6)\n",
    "b = np.random.rand(6)\n",
    "ans,res = cs111.LUsolve(A,b,pivoting=True)"
   ]
  }
 ],
 "metadata": {
  "kernelspec": {
   "display_name": "Python 3",
   "language": "python",
   "name": "python3"
  },
  "language_info": {
   "codemirror_mode": {
    "name": "ipython",
    "version": 3
   },
   "file_extension": ".py",
   "mimetype": "text/x-python",
   "name": "python",
   "nbconvert_exporter": "python",
   "pygments_lexer": "ipython3",
   "version": "3.8.8"
  }
 },
 "nbformat": 4,
 "nbformat_minor": 5
}
