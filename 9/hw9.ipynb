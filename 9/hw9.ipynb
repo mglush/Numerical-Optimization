{
 "cells": [
  {
   "cell_type": "code",
   "execution_count": 1,
   "id": "702d6da0",
   "metadata": {},
   "outputs": [],
   "source": [
    "import sys\n",
    "sys.path.append(\"/Users/Mike/Desktop/UCSB/CS/cs111/CS111-2021-fall/Python\") \n",
    "\n",
    "import os\n",
    "import time\n",
    "import math\n",
    "import autograd.numpy as np\n",
    "import autograd.numpy.linalg as npla\n",
    "from autograd import elementwise_grad, value_and_grad, grad\n",
    "from scipy.optimize import minimize\n",
    "from collections import defaultdict\n",
    "from itertools import zip_longest\n",
    "from functools import partial\n",
    "import scipy\n",
    "from scipy import linalg as spla\n",
    "import scipy.sparse\n",
    "import scipy.sparse.linalg\n",
    "from scipy import integrate\n",
    "import numpy as np\n",
    "import networkx as nx\n",
    "import json\n",
    "from tabulate import tabulate\n",
    "\n",
    "import cs111\n",
    "\n",
    "import matplotlib\n",
    "%matplotlib tk\n",
    "import matplotlib.pyplot as plt\n",
    "from matplotlib import cm\n",
    "from mpl_toolkits.mplot3d import Axes3D\n",
    "from matplotlib.colors import LogNorm\n",
    "from matplotlib import animation\n",
    "\n",
    "np.set_printoptions(precision = 4)"
   ]
  },
  {
   "cell_type": "markdown",
   "id": "4ef0d4a0",
   "metadata": {},
   "source": [
    "## Problem 1"
   ]
  },
  {
   "cell_type": "code",
   "execution_count": 3,
   "id": "d2e2ed65",
   "metadata": {},
   "outputs": [],
   "source": [
    "tolerances = [1e-3, 1e-7, 1e-15]    # precision to 4, 8, and 16 digits\n",
    "num_of_decimals = [3, 7, 15]\n",
    "\n",
    "def newtons_method_sqrt(value, x0):\n",
    "    # print the value we are estimating, the correct result,\n",
    "    print(\"\\n--------------------------------------------------------\\n\",\\\n",
    "          \"Estimating the square root of\",\\\n",
    "          value, \" starting at \", x0,\\\n",
    "          \":\\n--------------------------------------------------------\\n\")\n",
    "    # we do this for every tolerance\n",
    "    for i in range(len(tolerances)):\n",
    "        correct_xk = np.sqrt(value)\n",
    "        precision = num_of_decimals[i] # only show digits that matter given the tolerance\n",
    "        # precision = 15 # show 15 decimal places\n",
    "        data = []       # a data list that'll hold our findings\n",
    "        xk, k = x0, 0   # set the initial xk and counter variables\n",
    "        # every iteration, we will add a row of \n",
    "        # information to the data array\n",
    "        while(tolerances[i] < abs(round(xk, num_of_decimals[i]) - correct_xk)):\n",
    "            # record the [k, kx, and kx**2] of this step\n",
    "            data.append([k, xk, xk**2.0])\n",
    "            # take the iterative step\n",
    "            k += 1\n",
    "            xk = (0.5)*(xk + value/xk)\n",
    "        # record the last iteration's information\n",
    "        data.append([k, xk, xk**2])\n",
    "        # set the floatfmt string using tolerance and\n",
    "        # print the table for every tolerance for the given value\n",
    "        my_floatfmt = \".\" + str(precision) + \"f\"\n",
    "        print(\"tolerance =\", tolerances[i], \"\\n\",\\\n",
    "                tabulate(data, headers=[\"k\", \"xk\", \"xk**2\", \"correct xk\"],\\\n",
    "                tablefmt=\"grid\", floatfmt=my_floatfmt),\\\n",
    "                \"\\nsteps taken:\", k, \"\\n\")\n",
    "    # to let us know we are done estimating\n",
    "    # the value for each necessary tolerance\n",
    "    print(\"Done estimating the value\", value)"
   ]
  },
  {
   "cell_type": "code",
   "execution_count": 4,
   "id": "d41dc023",
   "metadata": {
    "scrolled": false
   },
   "outputs": [
    {
     "name": "stdout",
     "output_type": "stream",
     "text": [
      "\n",
      "--------------------------------------------------------\n",
      " Estimating the square root of 4.0  starting at  1.0 :\n",
      "--------------------------------------------------------\n",
      "\n",
      "tolerance = 0.001 \n",
      " +-----+-------+---------+\n",
      "|   k |    xk |   xk**2 |\n",
      "+=====+=======+=========+\n",
      "|   0 | 1.000 |   1.000 |\n",
      "+-----+-------+---------+\n",
      "|   1 | 2.500 |   6.250 |\n",
      "+-----+-------+---------+\n",
      "|   2 | 2.050 |   4.202 |\n",
      "+-----+-------+---------+\n",
      "|   3 | 2.001 |   4.002 |\n",
      "+-----+-------+---------+ \n",
      "steps taken: 3 \n",
      "\n",
      "tolerance = 1e-07 \n",
      " +-----+-----------+-----------+\n",
      "|   k |        xk |     xk**2 |\n",
      "+=====+===========+===========+\n",
      "|   0 | 1.0000000 | 1.0000000 |\n",
      "+-----+-----------+-----------+\n",
      "|   1 | 2.5000000 | 6.2500000 |\n",
      "+-----+-----------+-----------+\n",
      "|   2 | 2.0500000 | 4.2025000 |\n",
      "+-----+-----------+-----------+\n",
      "|   3 | 2.0006098 | 4.0024394 |\n",
      "+-----+-----------+-----------+\n",
      "|   4 | 2.0000001 | 4.0000004 |\n",
      "+-----+-----------+-----------+ \n",
      "steps taken: 4 \n",
      "\n",
      "tolerance = 1e-15 \n",
      " +-----+-------------------+-------------------+\n",
      "|   k |                xk |             xk**2 |\n",
      "+=====+===================+===================+\n",
      "|   0 | 1.000000000000000 | 1.000000000000000 |\n",
      "+-----+-------------------+-------------------+\n",
      "|   1 | 2.500000000000000 | 6.250000000000000 |\n",
      "+-----+-------------------+-------------------+\n",
      "|   2 | 2.050000000000000 | 4.202500000000000 |\n",
      "+-----+-------------------+-------------------+\n",
      "|   3 | 2.000609756097561 | 4.002439396192742 |\n",
      "+-----+-------------------+-------------------+\n",
      "|   4 | 2.000000092922295 | 4.000000371689188 |\n",
      "+-----+-------------------+-------------------+\n",
      "|   5 | 2.000000000000002 | 4.000000000000009 |\n",
      "+-----+-------------------+-------------------+\n",
      "|   6 | 2.000000000000000 | 4.000000000000000 |\n",
      "+-----+-------------------+-------------------+ \n",
      "steps taken: 6 \n",
      "\n",
      "Done estimating the value 4.0\n",
      "\n",
      "--------------------------------------------------------\n",
      " Estimating the square root of 2.0  starting at  1.0 :\n",
      "--------------------------------------------------------\n",
      "\n",
      "tolerance = 0.001 \n",
      " +-----+-------+---------+\n",
      "|   k |    xk |   xk**2 |\n",
      "+=====+=======+=========+\n",
      "|   0 | 1.000 |   1.000 |\n",
      "+-----+-------+---------+\n",
      "|   1 | 1.500 |   2.250 |\n",
      "+-----+-------+---------+\n",
      "|   2 | 1.417 |   2.007 |\n",
      "+-----+-------+---------+\n",
      "|   3 | 1.414 |   2.000 |\n",
      "+-----+-------+---------+ \n",
      "steps taken: 3 \n",
      "\n",
      "tolerance = 1e-07 \n",
      " +-----+-----------+-----------+\n",
      "|   k |        xk |     xk**2 |\n",
      "+=====+===========+===========+\n",
      "|   0 | 1.0000000 | 1.0000000 |\n",
      "+-----+-----------+-----------+\n",
      "|   1 | 1.5000000 | 2.2500000 |\n",
      "+-----+-----------+-----------+\n",
      "|   2 | 1.4166667 | 2.0069444 |\n",
      "+-----+-----------+-----------+\n",
      "|   3 | 1.4142157 | 2.0000060 |\n",
      "+-----+-----------+-----------+\n",
      "|   4 | 1.4142136 | 2.0000000 |\n",
      "+-----+-----------+-----------+ \n",
      "steps taken: 4 \n",
      "\n",
      "tolerance = 1e-15 \n",
      " +-----+-------------------+-------------------+\n",
      "|   k |                xk |             xk**2 |\n",
      "+=====+===================+===================+\n",
      "|   0 | 1.000000000000000 | 1.000000000000000 |\n",
      "+-----+-------------------+-------------------+\n",
      "|   1 | 1.500000000000000 | 2.250000000000000 |\n",
      "+-----+-------------------+-------------------+\n",
      "|   2 | 1.416666666666667 | 2.006944444444444 |\n",
      "+-----+-------------------+-------------------+\n",
      "|   3 | 1.414215686274510 | 2.000006007304882 |\n",
      "+-----+-------------------+-------------------+\n",
      "|   4 | 1.414213562374690 | 2.000000000004511 |\n",
      "+-----+-------------------+-------------------+\n",
      "|   5 | 1.414213562373095 | 2.000000000000000 |\n",
      "+-----+-------------------+-------------------+ \n",
      "steps taken: 5 \n",
      "\n",
      "Done estimating the value 2.0\n"
     ]
    }
   ],
   "source": [
    "newtons_method_sqrt(4.0, 1.0)\n",
    "newtons_method_sqrt(2.0, 1.0)"
   ]
  },
  {
   "cell_type": "markdown",
   "id": "e99d3333",
   "metadata": {},
   "source": [
    "## Problem 2"
   ]
  },
  {
   "cell_type": "markdown",
   "id": "2023df03",
   "metadata": {},
   "source": [
    "#### 2.1\n",
    "Here's the function $f(x)$ that we have to find the argmin{} of:\n",
    "$$f(x) = \\frac{\\sqrt{x^2 + 20^2}}{5} + \\sqrt{(80-x)^2 + 40^2}$$"
   ]
  },
  {
   "cell_type": "code",
   "execution_count": 122,
   "id": "862c99cb",
   "metadata": {},
   "outputs": [],
   "source": [
    "def f(x):\n",
    "    first = np.sqrt(x**2.0 + 20.0**2.0) / 5.0\n",
    "    second = np.sqrt((80.0 - x)**2.0 + 40.0**2.0)\n",
    "    return first + second"
   ]
  },
  {
   "cell_type": "code",
   "execution_count": 123,
   "id": "9cd16780",
   "metadata": {},
   "outputs": [],
   "source": [
    "result = scipy.optimize.minimize(f, 80.0)"
   ]
  },
  {
   "cell_type": "markdown",
   "id": "3ed60350",
   "metadata": {},
   "source": [
    "The above tells us that the lifeguard should run to $$(72.1435, 0),$$ and then swim to the swimmer. The result above also tells us that $$f(72.1435) = 55.73714459499687 \\text{ seconds},$$ which is the number of seconds that it'll take the lifeguard to get the swimmer along the straight shoreline."
   ]
  },
  {
   "cell_type": "code",
   "execution_count": 127,
   "id": "aa5af094",
   "metadata": {},
   "outputs": [],
   "source": [
    "# modify our f to give the distances so we can plot them on the chart\n",
    "def modified_f(x):\n",
    "    first = np.sqrt(x**2.0 + 20.0**2.0) / 5.0\n",
    "    second = np.sqrt((80.0 - x)**2.0 + 40.0**2.0)\n",
    "    return (first * 5.0, second)\n",
    "modified_f(72.1435) # first term is the running distance,\n",
    "                    # second term is the swimming distance\n",
    "plt.xlim([0, 100]) # x limits\n",
    "plt.ylim([-60, 40]) # y limits\n",
    "plt.xlabel( \"Distance Along the Shoreline\" )\n",
    "plt.ylabel( \"Distance from the Oceanline\" )\n",
    "plt.title( \"Optimal Path for a Lifeguard Along a Straight Shoreline\" )\n",
    "\n",
    "# this is the lifeguard\n",
    "plt.plot([0], [20], marker=\"o\", markersize=10,\\\n",
    "         markeredgecolor=\"red\", markerfacecolor=\"green\")\n",
    "plt.text(0 + 3, 20 + 3, 'Lifeguard') # label\n",
    "# this is the swimmer\n",
    "plt.plot([80], [-40], marker=\"o\", markersize=10,\\\n",
    "         markeredgecolor=\"blue\", markerfacecolor=\"green\")\n",
    "plt.text(80 + 3, -40 + 3, 'Swimmer') # label\n",
    "# the spot the lifeguard should run to\n",
    "plt.plot([result['x'][0]], [0], marker=\"x\", markersize=10,\\\n",
    "         markeredgecolor=\"black\", markerfacecolor=\"black\")\n",
    "plt.text(result['x'][0] - 17, 0 + 8, str('the point x at ('\\\n",
    "                                         + str(round(result['x'][0], 4))\\\n",
    "                                         + ',0)'))# label\n",
    "# now we need a line from the lifeguard to the x\n",
    "lifeguard, x = [0, result['x'][0]], [20, 0]\n",
    "plt.plot(lifeguard, x, label = str('running for '\\\n",
    "                                   + str(modified_f(result['x'][0])[0])\\\n",
    "                                   + ' meters')) # plot\n",
    "# and we need a line from the x to the swimmer\n",
    "x, swimmer = [result['x'][0], 80], [0, -40]\n",
    "plt.plot(x, swimmer, label = str('swimming for '\\\n",
    "                                 + str(modified_f(result['x'][0])[1])\\\n",
    "                                 + ' meters')) # plot\n",
    "plt.axhline(0, color='black', label = 'straight shoreline') # draw the shoreline\n",
    "plt.legend()\n",
    "plt.show() # show the plot"
   ]
  },
  {
   "cell_type": "code",
   "execution_count": 128,
   "id": "35b55f19",
   "metadata": {},
   "outputs": [],
   "source": [
    "plt.close('all')"
   ]
  },
  {
   "cell_type": "markdown",
   "id": "9340315d",
   "metadata": {},
   "source": [
    "#### 2.2\n",
    "Here's the function $f(x)$ that we have to find the argmin{} of:\n",
    "$$f(x) = \\frac{\\sqrt{x^2 + (y+20)^2}}{5} + \\sqrt{(80-x)^2 + (-40-y)^2},$$\n",
    "where\n",
    "$$y = - \\sqrt{1000 - \\frac{x^2}{10}}$$"
   ]
  },
  {
   "cell_type": "code",
   "execution_count": 142,
   "id": "3acfc853",
   "metadata": {},
   "outputs": [],
   "source": [
    "def y(x):\n",
    "    return -np.sqrt(1000.0 - (x**2.0) / 10.0)\n",
    "def f(x):\n",
    "    first = np.sqrt(x**2.0 + (y(x) + 20.0)**2.0) / 5.0\n",
    "    second = np.sqrt((80.0 - x)**2.0 + (-40.0 - y(x))**2.0)\n",
    "    return first + second"
   ]
  },
  {
   "cell_type": "code",
   "execution_count": 143,
   "id": "cd83cb9c",
   "metadata": {},
   "outputs": [
    {
     "data": {
      "text/plain": [
       "      fun: 34.08474202400345\n",
       " hess_inv: array([[16.3784]])\n",
       "      jac: array([4.7684e-07])\n",
       "  message: 'Optimization terminated successfully.'\n",
       "     nfev: 12\n",
       "      nit: 4\n",
       "     njev: 6\n",
       "   status: 0\n",
       "  success: True\n",
       "        x: array([70.5215])"
      ]
     },
     "execution_count": 143,
     "metadata": {},
     "output_type": "execute_result"
    }
   ],
   "source": [
    "result = scipy.optimize.minimize(f, 80.0)\n",
    "result"
   ]
  },
  {
   "cell_type": "code",
   "execution_count": 144,
   "id": "0d4d7282",
   "metadata": {},
   "outputs": [
    {
     "data": {
      "text/plain": [
       "-22.420351359105403"
      ]
     },
     "execution_count": 144,
     "metadata": {},
     "output_type": "execute_result"
    }
   ],
   "source": [
    "y(result['x'][0])"
   ]
  },
  {
   "cell_type": "markdown",
   "id": "4a143922",
   "metadata": {},
   "source": [
    "The above tells us that the lifeguard should run to $$(70.5215, -22.420343524910585),$$ and then swim to the swimmer. The result above also tells us that $$f(70.5215) = \\text{34.08474202400345} \\text{ seconds},$$ which is the number of seconds that it'll take the lifeguard to get the swimmer along the curved shoreline."
   ]
  },
  {
   "cell_type": "code",
   "execution_count": 147,
   "id": "d75a6657",
   "metadata": {},
   "outputs": [],
   "source": [
    "# modify our f to give the distances so we can plot them on the chart\n",
    "def modified_f(x):\n",
    "    first = np.sqrt(x**2.0 + (y(x) + 20.0)**2.0) / 5.0\n",
    "    second = np.sqrt((80.0 - x)**2.0 + (-40.0 - y(x))**2.0)\n",
    "    return (first * 5.0, second)\n",
    "\n",
    "modified_f(70.5215) # first term is the running distance,\n",
    "                    # second term is the swimming distance\n",
    "plt.xlim([0, 100]) # x limits\n",
    "plt.ylim([-60, 40]) # y limits\n",
    "plt.xlabel( \"Distance Along the Shoreline\" )\n",
    "plt.ylabel( \"Distance from the Oceanline\" )\n",
    "plt.title( \"Optimal Path for a Lifeguard Along a Curved Shoreline\" )\n",
    "# this is the lifeguard\n",
    "plt.plot([0], [20], marker=\"o\", markersize=10,\\\n",
    "         markeredgecolor=\"red\", markerfacecolor=\"green\")\n",
    "plt.text(0 + 3, 20 + 3, 'Lifeguard') # label\n",
    "# this is the swimmer\n",
    "plt.plot([80], [-40], marker=\"o\", markersize=10,\\\n",
    "         markeredgecolor=\"blue\", markerfacecolor=\"green\")\n",
    "plt.text(80 + 3, -40 + 3, 'Swimmer') # label\n",
    "# the spot the lifeguard should run to\n",
    "plt.plot([result['x'][0]], [y(result['x'][0])], marker=\"x\", markersize=10,\\\n",
    "         markeredgecolor=\"black\", markerfacecolor=\"black\")\n",
    "plt.text(result['x'][0] - 23, y(result['x'][0]) + 12, str('the point x at ('\\\n",
    "                                         + str(round(result['x'][0], 4))\\\n",
    "                                         + ',' + str(round(y(result['x'][0]), 4)) + ')')) # label\n",
    "# now we need a line from the lifeguard to the x\n",
    "lifeguard, x = [0, result['x'][0]], [20, y(result['x'][0])]\n",
    "plt.plot(lifeguard, x, label = str('running for '\\\n",
    "                                   + str(modified_f(result['x'][0])[0])\\\n",
    "                                   + ' meters')) # plot\n",
    "# and we need a line from the x to the swimmer\n",
    "x, swimmer = [result['x'][0], 80], [y(result['x'][0]), -40]\n",
    "plt.plot(x, swimmer, label = str('swimming for '\\\n",
    "                                 + str(modified_f(result['x'][0])[1])\\\n",
    "                                 + ' meters')) # plot\n",
    "# display the x-axis\n",
    "plt.axhline(0, color= 'black')\n",
    "# draw the curved shoreline\n",
    "x_vals = np.linspace(0,100,100)\n",
    "y_vals = np.array([y(x_vals[i]) for i in range(len(x_vals))])\n",
    "plt.plot(x_vals, y_vals, color = 'black', label = 'curved shoreline')\n",
    "\n",
    "plt.legend()\n",
    "plt.show() # show the plot"
   ]
  },
  {
   "cell_type": "code",
   "execution_count": 2,
   "id": "29ebe91c",
   "metadata": {},
   "outputs": [],
   "source": [
    "plt.close(\"all\")"
   ]
  },
  {
   "cell_type": "code",
   "execution_count": null,
   "id": "984ac374",
   "metadata": {},
   "outputs": [],
   "source": [
    "## quiz 9\n",
    "tolerances = [1e-3, 1e-7, 1e-15]    # precision to 4, 8, and 16 digits\n",
    "num_of_decimals = [3, 7, 15]\n",
    "\n",
    "def newtons_method_sqrt(value, x0):\n",
    "    # print the value we are estimating, the correct result,\n",
    "    print(\"\\n--------------------------------------------------------\\n\",\\\n",
    "          \"Estimating the power of 4 of\",\\\n",
    "          value, \" starting at\", x0,\\\n",
    "          \":\\n--------------------------------------------------------\\n\")\n",
    "    # we do this for every tolerance\n",
    "    for i in range(len(tolerances)):\n",
    "        correct_xk = value**4.0\n",
    "        precision = num_of_decimals[i] # only show digits that matter given the tolerance\n",
    "        # precision = 15 # show 15 decimal places\n",
    "        data = []       # a data list that'll hold our findings\n",
    "        xk, k = x0, 0   # set the initial xk and counter variables\n",
    "        # every iteration, we will add a row of \n",
    "        # information to the data array\n",
    "        while(tolerances[i] < abs(round(xk, num_of_decimals[i]) - correct_xk)):\n",
    "            # record the [k, kx, and kx**2] of this step\n",
    "            data.append([k, xk, np.sqrt(np.sqrt(xk))])\n",
    "            # take the iterative step\n",
    "            k += 1\n",
    "            xk = (0.5)*(xk + value/xk)\n",
    "        # record the last iteration's information\n",
    "        data.append([k, xk, xk**2])\n",
    "        # set the floatfmt string using tolerance and\n",
    "        # print the table for every tolerance for the given value\n",
    "        my_floatfmt = \".\" + str(precision) + \"f\"\n",
    "        print(\"tolerance =\", tolerances[i], \"\\n\",\\\n",
    "                tabulate(data, headers=[\"k\", \"xk\", \"xk**2\", \"correct xk\"],\\\n",
    "                tablefmt=\"grid\", floatfmt=my_floatfmt),\\\n",
    "                \"\\nsteps taken:\", k, \"\\n\")\n",
    "    # to let us know we are done estimating\n",
    "    # the value for each necessary tolerance\n",
    "    print(\"Done estimating the value\", value)"
   ]
  },
  {
   "cell_type": "code",
   "execution_count": 4,
   "id": "458d4558",
   "metadata": {},
   "outputs": [
    {
     "ename": "RuntimeError",
     "evalue": "Failed to converge after 50 iterations, value is 8.738052344719754e-05.",
     "output_type": "error",
     "traceback": [
      "\u001b[0;31m---------------------------------------------------------------------------\u001b[0m",
      "\u001b[0;31mRuntimeError\u001b[0m                              Traceback (most recent call last)",
      "\u001b[0;32m<ipython-input-4-5d9e74a39e40>\u001b[0m in \u001b[0;36m<module>\u001b[0;34m\u001b[0m\n\u001b[1;32m      2\u001b[0m     \u001b[0;32mreturn\u001b[0m \u001b[0mx\u001b[0m\u001b[0;34m**\u001b[0m\u001b[0;36m4.0\u001b[0m\u001b[0;34m\u001b[0m\u001b[0;34m\u001b[0m\u001b[0m\n\u001b[1;32m      3\u001b[0m \u001b[0;34m\u001b[0m\u001b[0m\n\u001b[0;32m----> 4\u001b[0;31m \u001b[0mscipy\u001b[0m\u001b[0;34m.\u001b[0m\u001b[0moptimize\u001b[0m\u001b[0;34m.\u001b[0m\u001b[0mnewton\u001b[0m\u001b[0;34m(\u001b[0m\u001b[0mf\u001b[0m\u001b[0;34m,\u001b[0m \u001b[0;36m2.0\u001b[0m\u001b[0;34m)\u001b[0m\u001b[0;34m\u001b[0m\u001b[0;34m\u001b[0m\u001b[0m\n\u001b[0m",
      "\u001b[0;32m/Applications/anaconda3/lib/python3.8/site-packages/scipy/optimize/zeros.py\u001b[0m in \u001b[0;36mnewton\u001b[0;34m(func, x0, fprime, args, tol, maxiter, fprime2, x1, rtol, full_output, disp)\u001b[0m\n\u001b[1;32m    359\u001b[0m         msg = (\"Failed to converge after %d iterations, value is %s.\"\n\u001b[1;32m    360\u001b[0m                % (itr + 1, p))\n\u001b[0;32m--> 361\u001b[0;31m         \u001b[0;32mraise\u001b[0m \u001b[0mRuntimeError\u001b[0m\u001b[0;34m(\u001b[0m\u001b[0mmsg\u001b[0m\u001b[0;34m)\u001b[0m\u001b[0;34m\u001b[0m\u001b[0;34m\u001b[0m\u001b[0m\n\u001b[0m\u001b[1;32m    362\u001b[0m \u001b[0;34m\u001b[0m\u001b[0m\n\u001b[1;32m    363\u001b[0m     \u001b[0;32mreturn\u001b[0m \u001b[0m_results_select\u001b[0m\u001b[0;34m(\u001b[0m\u001b[0mfull_output\u001b[0m\u001b[0;34m,\u001b[0m \u001b[0;34m(\u001b[0m\u001b[0mp\u001b[0m\u001b[0;34m,\u001b[0m \u001b[0mfuncalls\u001b[0m\u001b[0;34m,\u001b[0m \u001b[0mitr\u001b[0m \u001b[0;34m+\u001b[0m \u001b[0;36m1\u001b[0m\u001b[0;34m,\u001b[0m \u001b[0m_ECONVERR\u001b[0m\u001b[0;34m)\u001b[0m\u001b[0;34m)\u001b[0m\u001b[0;34m\u001b[0m\u001b[0;34m\u001b[0m\u001b[0m\n",
      "\u001b[0;31mRuntimeError\u001b[0m: Failed to converge after 50 iterations, value is 8.738052344719754e-05."
     ]
    }
   ],
   "source": [
    "def f(x):\n",
    "    return x**4.0\n",
    "\n",
    "scipy.optimize.newton(f, 2.0)"
   ]
  }
 ],
 "metadata": {
  "kernelspec": {
   "display_name": "Python 3",
   "language": "python",
   "name": "python3"
  },
  "language_info": {
   "codemirror_mode": {
    "name": "ipython",
    "version": 3
   },
   "file_extension": ".py",
   "mimetype": "text/x-python",
   "name": "python",
   "nbconvert_exporter": "python",
   "pygments_lexer": "ipython3",
   "version": "3.8.8"
  }
 },
 "nbformat": 4,
 "nbformat_minor": 5
}
