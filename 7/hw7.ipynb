{
 "cells": [
  {
   "cell_type": "code",
   "execution_count": 2,
   "id": "8b109b29",
   "metadata": {},
   "outputs": [],
   "source": [
    "import sys\n",
    "\n",
    "sys.path.append(\"/Users/Mike/desktop/UCSB/CS/CS111/cs111-2021-fall/Python\") \n",
    "\n",
    "import os\n",
    "import time\n",
    "import math\n",
    "import numpy as np\n",
    "import numpy.linalg as npla\n",
    "import scipy\n",
    "from scipy import linalg as spla\n",
    "import scipy.sparse\n",
    "import scipy.sparse.linalg\n",
    "from scipy import integrate\n",
    "import networkx as nx\n",
    "import json\n",
    "import cs111\n",
    "\n",
    "import matplotlib\n",
    "# %matplotlib ipympl\n",
    "# %matplotlib tk\n",
    "%matplotlib inline\n",
    "\n",
    "import matplotlib.pyplot as plt\n",
    "from matplotlib import cm\n",
    "from mpl_toolkits.mplot3d import axes3d\n",
    "np.set_printoptions(precision = 4)"
   ]
  },
  {
   "cell_type": "markdown",
   "id": "bb0d7bfb",
   "metadata": {},
   "source": [
    "## Problem 1"
   ]
  },
  {
   "cell_type": "code",
   "execution_count": 8,
   "id": "dc429ef7",
   "metadata": {},
   "outputs": [
    {
     "name": "stdout",
     "output_type": "stream",
     "text": [
      "Matrix Q:\n",
      " [[-0.9428 -0.1421  0.3015]\n",
      " [ 0.2357 -0.9239  0.3015]\n",
      " [ 0.2357  0.3553  0.9045]]\n",
      "Matrix R:\n",
      " [[-4.2426  1.6499  1.6499]\n",
      " [ 0.     -3.9087  2.4873]\n",
      " [ 0.      0.      3.0151]]\n",
      "Is R upper-triangular? True\n",
      "Comparing Q to the Identity matrix: 2.846963623252602e-16\n",
      "Compare Q@R to A: 2.3599796770763007e-16\n"
     ]
    }
   ],
   "source": [
    "# 1.1\n",
    "A = np.array([[4,-1,-1], [-1,4,-1], [-1,-1,4]])\n",
    "b = (np.array([15,-3,12])).T\n",
    "\n",
    "Q, R = spla.qr(A, mode = 'economic') # QR factorization\n",
    "\n",
    "print(\"Matrix Q:\\n\", Q)\n",
    "print(\"Matrix R:\\n\", R)\n",
    "print(\"Is R upper-triangular?\", (R == np.triu(R)).all())\n",
    "print(\"Comparing Q to the Identity matrix:\", npla.norm(Q.T@Q - np.eye(3))/npla.norm(np.eye(3))) # should be close to 0\n",
    "print(\"Compare Q@R to A:\", npla.norm(Q@R - A)/npla.norm(A)) # should be close to 0"
   ]
  },
  {
   "cell_type": "markdown",
   "id": "1f009d47",
   "metadata": {},
   "source": [
    "$Q$ is orthogonal since the relative norm we calculated is about 0. We can see $Q@R=A$"
   ]
  },
  {
   "cell_type": "code",
   "execution_count": 103,
   "id": "20bf177c",
   "metadata": {},
   "outputs": [
    {
     "name": "stdout",
     "output_type": "stream",
     "text": [
      "Relative residual norm: 1.8835570444992786e-16\n"
     ]
    }
   ],
   "source": [
    "# 1.2\n",
    "A = np.array([[4,-1,-1], [-1,4,-1], [-1,-1,4]])\n",
    "b = (np.array([15,-3,12])).T\n",
    "\n",
    "Q, R = spla.qr(A) # QR factorization\n",
    "\n",
    "x = cs111.Usolve(R, Q.T @ b)\n",
    "print(\"Relative residual norm:\", npla.norm(A@x-b, 2)/npla.norm(b, 2)) # should be close to 0"
   ]
  },
  {
   "cell_type": "markdown",
   "id": "c92fb46a",
   "metadata": {},
   "source": [
    "The relative residual norm confirms the solution."
   ]
  },
  {
   "cell_type": "markdown",
   "id": "6df0789e",
   "metadata": {},
   "source": [
    "## Problem 2"
   ]
  },
  {
   "cell_type": "code",
   "execution_count": 19,
   "id": "2ba9771f",
   "metadata": {},
   "outputs": [
    {
     "name": "stdout",
     "output_type": "stream",
     "text": [
      "shape of Q1: (9, 9)\n",
      "shape of Q2: (9, 5)\n",
      "is Q1 orthogonal? 3.1964774381571565e-16\n",
      "is R1 upper-triangular? True\n",
      "matrix A:\n",
      " [[0.45   0.5082 0.0669 0.9867 0.7491]\n",
      " [0.3782 0.1806 0.4698 0.5537 0.524 ]\n",
      " [0.0356 0.5214 0.2248 0.7735 0.1501]\n",
      " [0.078  0.014  0.9636 0.3365 0.8077]\n",
      " [0.5777 0.1452 0.9845 0.9176 0.1985]\n",
      " [0.7973 0.9058 0.4802 0.6903 0.5112]\n",
      " [0.8824 0.8392 0.2523 0.4604 0.8   ]\n",
      " [0.6742 0.1908 0.1365 0.0878 0.7255]\n",
      " [0.4843 0.8604 0.397  0.475  0.2434]]\n",
      "matrix Q1@R1:\n",
      " [[0.45   0.5082 0.0669 0.9867 0.7491]\n",
      " [0.3782 0.1806 0.4698 0.5537 0.524 ]\n",
      " [0.0356 0.5214 0.2248 0.7735 0.1501]\n",
      " [0.078  0.014  0.9636 0.3365 0.8077]\n",
      " [0.5777 0.1452 0.9845 0.9176 0.1985]\n",
      " [0.7973 0.9058 0.4802 0.6903 0.5112]\n",
      " [0.8824 0.8392 0.2523 0.4604 0.8   ]\n",
      " [0.6742 0.1908 0.1365 0.0878 0.7255]\n",
      " [0.4843 0.8604 0.397  0.475  0.2434]]\n",
      "relative residual norm: 1.9124251798393327e-16\n"
     ]
    }
   ],
   "source": [
    "# 2.1\n",
    "m = 9\n",
    "n = 5\n",
    "A = np.random.rand(9, 5)\n",
    "Q1, R1 = spla.qr(A)\n",
    "A_approx = Q1@R1\n",
    "print(\"shape of Q1:\", Q1.shape)\n",
    "print(\"shape of Q2:\", R1.shape)\n",
    "print(\"is Q1 orthogonal?\", npla.norm(Q1.T@Q1 - np.eye(m)) / npla.norm(np.eye(m)))\n",
    "print(\"is R1 upper-triangular?\", (R1 == np.triu(R1)).all())\n",
    "print(\"matrix A:\\n\", A)\n",
    "print(\"matrix Q1@R1:\\n\", A_approx)\n",
    "print(\"relative residual norm:\", npla.norm(A_approx - A) / npla.norm(A)) # should be close to 0"
   ]
  },
  {
   "cell_type": "code",
   "execution_count": 7,
   "id": "71a0ee35",
   "metadata": {},
   "outputs": [
    {
     "name": "stdout",
     "output_type": "stream",
     "text": [
      "shape of Q1: (9, 5)\n",
      "shape of Q2: (5, 5)\n",
      "what is Q2^T@Q2\n",
      " [[ 1.0000e+00  1.7687e-16  1.5425e-17  5.8627e-17  1.5418e-16]\n",
      " [ 1.7687e-16  1.0000e+00  6.0847e-17 -7.8764e-18 -1.0277e-17]\n",
      " [ 1.5425e-17  6.0847e-17  1.0000e+00  2.7410e-17  4.0933e-17]\n",
      " [ 5.8627e-17 -7.8764e-18  2.7410e-17  1.0000e+00 -1.8814e-17]\n",
      " [ 1.5418e-16 -1.0277e-17  4.0933e-17 -1.8814e-17  1.0000e+00]]\n",
      "is Q2 orthogonal? 2.962803490730074e-16\n",
      "is R2 upper-triangular? True\n",
      "matrix A:\n",
      " [[0.2741 0.9216 0.5717 0.782  0.9164]\n",
      " [0.9512 0.6628 0.2947 0.998  0.5   ]\n",
      " [0.0332 0.9369 0.6465 0.6998 0.9118]\n",
      " [0.5836 0.9616 0.3358 0.3302 0.11  ]\n",
      " [0.654  0.9826 0.5536 0.8037 0.6224]\n",
      " [0.2384 0.7079 0.6782 0.8664 0.4844]\n",
      " [0.2207 0.444  0.9789 0.1823 0.0346]\n",
      " [0.9375 0.8239 0.8027 0.8383 0.5767]\n",
      " [0.907  0.8168 0.9441 0.6301 0.2434]]\n",
      "matrix Q2@R2:\n",
      " [[0.2741 0.9216 0.5717 0.782  0.9164]\n",
      " [0.9512 0.6628 0.2947 0.998  0.5   ]\n",
      " [0.0332 0.9369 0.6465 0.6998 0.9118]\n",
      " [0.5836 0.9616 0.3358 0.3302 0.11  ]\n",
      " [0.654  0.9826 0.5536 0.8037 0.6224]\n",
      " [0.2384 0.7079 0.6782 0.8664 0.4844]\n",
      " [0.2207 0.444  0.9789 0.1823 0.0346]\n",
      " [0.9375 0.8239 0.8027 0.8383 0.5767]\n",
      " [0.907  0.8168 0.9441 0.6301 0.2434]]\n",
      "relative residual norm: 6.067820698843451e-16\n",
      "forbenius norm of the difference of Q1 and Q2 0.34164078649987356\n",
      "forbenius norm of the difference of R1 and R2 0.0\n"
     ]
    }
   ],
   "source": [
    "# 2.2\n",
    "m = 9\n",
    "n = 5\n",
    "A = np.random.rand(9, 5)\n",
    "Q1, R1 = spla.qr(A)\n",
    "Q2, R2 = spla.qr(A, mode = 'economic')\n",
    "A_approx = Q2@R2\n",
    "print(\"shape of Q1:\", Q2.shape)\n",
    "print(\"shape of Q2:\", R2.shape)\n",
    "print(\"what is Q2^T@Q2\\n\", Q2.T@Q2)\n",
    "print(\"is Q2 orthogonal?\", npla.norm(Q2.T@Q2 - np.eye(n)) / npla.norm(np.eye(n)))\n",
    "print(\"is R2 upper-triangular?\", (R2 == np.triu(R2)).all())\n",
    "print(\"matrix A:\\n\", A)\n",
    "print(\"matrix Q2@R2:\\n\", A_approx)\n",
    "print(\"relative residual norm:\", npla.norm(A_approx - A) / npla.norm(A))\n",
    "print(\"forbenius norm of the difference of Q1 and Q2\", (npla.norm(Q1) - npla.norm(Q2))/npla.norm(Q2))\n",
    "print(\"forbenius norm of the difference of R1 and R2\", (npla.norm(R1) - npla.norm(R2))/npla.norm(R2))"
   ]
  },
  {
   "cell_type": "markdown",
   "id": "a6a1aeb3",
   "metadata": {},
   "source": [
    "We generate the economy-sized QR factorization of $A$, confirm that $Q_2$ is orthogonal, confirm by inspection that $R_2$ is, in fact, upper-triangular, and then verify that $Q_2R_2=A$. We can clearly see from this problem that $Q_2$ is exactly matrix $Q_1$, truncated to be an $m$-by-$n$ matrix (since $Q_1$ is $m$-by-$m$). This truncation results in the forbenius norm of $0.3416$, since we truncate nonzero values from matrix $Q_1$ in the process.\\newline\n",
    "As for $R_1$ and $R_2$, $R_2$ is the same matrix as $R_1$, truncated to be $n$-by$n$. The forbenius norm here is $0$ since we truncate $0$s from $R_1$ to obtain $R_2$"
   ]
  },
  {
   "cell_type": "markdown",
   "id": "ae4361a8",
   "metadata": {},
   "source": [
    "## Problem 3"
   ]
  },
  {
   "cell_type": "code",
   "execution_count": 106,
   "id": "d4e150a3",
   "metadata": {},
   "outputs": [
    {
     "name": "stdout",
     "output_type": "stream",
     "text": [
      "x: [ 0.9327 -0.7539 -0.9112  1.6088  0.167 ]\n",
      "relative residual norm: 0.2874629614360627\n",
      "Verifying orthogonality: 4.778535933284633e-15\n"
     ]
    }
   ],
   "source": [
    "# generate the random 9x1 vector\n",
    "b = np.random.rand(m)\n",
    "\n",
    "# 3.1\n",
    "x = npla.lstsq(A, b, rcond = None)[0] # computing x here\n",
    "r = b - A@x                           # calculate the residual\n",
    "print(\"x:\", x)\n",
    "print(\"relative residual norm:\", npla.norm(r, 2)/npla.norm(b, 2))\n",
    "\n",
    "# verify the residual is orthogonal\n",
    "print(\"Verifying orthogonality:\", npla.norm(A.T@r, 2)) # should be close to 0"
   ]
  },
  {
   "cell_type": "code",
   "execution_count": 107,
   "id": "19fff076",
   "metadata": {},
   "outputs": [
    {
     "name": "stdout",
     "output_type": "stream",
     "text": [
      "x: [ 0.9327 -0.7539 -0.9112  1.6088  0.167 ]\n",
      "relative residual norm: 0.28746296143606265\n",
      "Verifying orthogonality: 9.606120695417352e-16\n"
     ]
    }
   ],
   "source": [
    "# 3.2\n",
    "y = Q1.T@b\n",
    "x = cs111.Usolve(R1[:min(A.shape)], y[:min(A.shape)]) # compute x\n",
    "r = b - A@x                           # calculate the residual\n",
    "print(\"x:\", x)\n",
    "print(\"relative residual norm:\", npla.norm(r, 2)/npla.norm(b, 2))\n",
    "\n",
    "# verify the residual is orthogonal\n",
    "print(\"Verifying orthogonality:\", npla.norm(A.T@r, 2)) # should be close to 0"
   ]
  },
  {
   "cell_type": "code",
   "execution_count": 108,
   "id": "6994053e",
   "metadata": {},
   "outputs": [
    {
     "name": "stdout",
     "output_type": "stream",
     "text": [
      "x: [ 0.9327 -0.7539 -0.9112  1.6088  0.167 ]\n",
      "relative residual norm: 0.28746296143606265\n",
      "Verifying orthogonality: 9.606120695417352e-16\n"
     ]
    }
   ],
   "source": [
    "# 3.3\n",
    "y = Q2.T@b\n",
    "x = cs111.Usolve(R2, y) # compute x\n",
    "r = b - A@x                           # calculate the residual\n",
    "print(\"x:\", x)\n",
    "print(\"relative residual norm:\", npla.norm(r, 2)/npla.norm(b, 2))\n",
    "\n",
    "# verify the residual is orthogonal\n",
    "print(\"Verifying orthogonality:\", npla.norm(A.T@r, 2)) # should be close to 0"
   ]
  },
  {
   "cell_type": "markdown",
   "id": "4a2beece",
   "metadata": {},
   "source": [
    "We can see that $\\textbf{3.3}$ gives us the same result as $\\textbf{3.2}$ and $\\textbf{3.1}$ do. This is because in $\\textbf{3.2}$, we use QR factorization, then extract a submatrix from $R_1$, and slice y to craft the input for Usolve. In $\\textbf{3.3}$ we basically do the reverse, where the QR factorization takes care of the dimension issue by providing a square $R_2$ for us (ends up being exactly the same matrix as the one we extracted from $R_1$); the truncation in $\\textbf{3.2}$ makes the y input also be exactly the same as the y input in $\\textbf{3.3}$. These answers are the same as $\\textbf{3.1}$ because this is precisely what npla.lstsq() does."
   ]
  },
  {
   "cell_type": "code",
   "execution_count": 109,
   "id": "70fb9e82",
   "metadata": {},
   "outputs": [
    {
     "name": "stdout",
     "output_type": "stream",
     "text": [
      "x: [1. 1. 1. 1. 1.]\n",
      "relative residual norm: 1.217749711047603e-16\n",
      "Verifying orthogonality: 1.5600859208672382e-15\n"
     ]
    }
   ],
   "source": [
    "# 3.4\n",
    "b = A@np.ones(5)# change b\n",
    "\n",
    "y = Q2.T@b\n",
    "x = cs111.Usolve(R2, y) # compute x\n",
    "r = b - A@x                           # calculate the residual\n",
    "\n",
    "print(\"x:\", x)\n",
    "print(\"relative residual norm:\", npla.norm(r, 2)/npla.norm(b, 2))\n",
    "print(\"Verifying orthogonality:\", npla.norm(A.T@r, 2)) # should be close to 0"
   ]
  },
  {
   "cell_type": "markdown",
   "id": "80a09409",
   "metadata": {},
   "source": [
    "The new relative residual norm is much smaller in $\\textbf{3.4}$ than the relative residual norms in the other sections of problem $3$. Since our $b$ is a linear combination of $A$'s columns, no round-off error happens during QR factorization; we can see this by examining $Q_2$ and $R_2$, and seeing that unlike other sections, there's only 4 digits of precision necessary."
   ]
  },
  {
   "cell_type": "code",
   "execution_count": 21,
   "id": "96ddfd0e",
   "metadata": {},
   "outputs": [
    {
     "name": "stdout",
     "output_type": "stream",
     "text": [
      "QUICK CHECK\n",
      "QUICK CHECK\n"
     ]
    }
   ],
   "source": [
    "print(\"QUICK CHECK\")\n",
    "A = np.array([[3, -1, -1, -1], [-1, 1, 0, 0], [-1, 0, 1, 0], [-1, 0, 0, 1]])\n",
    "v1 = np.array([1, 1, 1, 1]).T\n",
    "v2 = np.array([0, -2, 1, 1]).T\n",
    "v3 = np.array([0, 2, -1, -1]).T\n",
    "v4 = np.array([1, -1, 1, -1]).T\n",
    "v5 = np.array([0, 0, 0, 0]).T\n",
    "v6 = np.array([3, -1, -1, -1]).T\n",
    "print(\"QUICK CHECK\")"
   ]
  },
  {
   "cell_type": "code",
   "execution_count": 33,
   "id": "f94e0af4",
   "metadata": {},
   "outputs": [
    {
     "name": "stdout",
     "output_type": "stream",
     "text": [
      "True\n",
      "True\n",
      "True\n",
      "True\n"
     ]
    }
   ],
   "source": [
    "vectorsToCheck = [v1, v2, v3, v4, v5, v6]\n",
    "#for i in vectorsToCheck:\n",
    "    #print(i, \"\\n\\n\", A@i, \"\\n------------------------\")\n",
    "    \n",
    "print((A@vectorsToCheck[0]==0*vectorsToCheck[0]).all())\n",
    "print((A@vectorsToCheck[1]==1*vectorsToCheck[1]).all())\n",
    "print((A@vectorsToCheck[2]==1*vectorsToCheck[2]).all())\n",
    "print((A@vectorsToCheck[5]==4*vectorsToCheck[5]).all())"
   ]
  }
 ],
 "metadata": {
  "kernelspec": {
   "display_name": "Python 3",
   "language": "python",
   "name": "python3"
  },
  "language_info": {
   "codemirror_mode": {
    "name": "ipython",
    "version": 3
   },
   "file_extension": ".py",
   "mimetype": "text/x-python",
   "name": "python",
   "nbconvert_exporter": "python",
   "pygments_lexer": "ipython3",
   "version": "3.8.8"
  }
 },
 "nbformat": 4,
 "nbformat_minor": 5
}
