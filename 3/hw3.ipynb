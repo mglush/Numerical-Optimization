{
 "cells": [
  {
   "cell_type": "code",
   "execution_count": 2,
   "id": "03bb107a",
   "metadata": {},
   "outputs": [],
   "source": [
    "import sys\n",
    "\n",
    "sys.path.append(\"/Users/Mike/desktop/UCSB/CS/CS111/cs111-2021-fall/Python\") \n",
    "\n",
    "import os\n",
    "import time\n",
    "import math\n",
    "import numpy as np\n",
    "import numpy.linalg as npla\n",
    "import scipy\n",
    "from scipy import linalg as spla\n",
    "import scipy.sparse\n",
    "import scipy.sparse.linalg\n",
    "from scipy import integrate\n",
    "import matplotlib.pyplot as plt\n",
    "from matplotlib import cm\n",
    "from mpl_toolkits.mplot3d import axes3d\n",
    "import cs111\n",
    "\n",
    "%matplotlib inline\n",
    "\n",
    "np.set_printoptions(precision = 4)"
   ]
  },
  {
   "cell_type": "code",
   "execution_count": 587,
   "id": "6ab6147c",
   "metadata": {},
   "outputs": [],
   "source": [
    "#cs111.Lsolve()\n",
    "def Lsolve(L, b, unit_diag=False):\n",
    "    \"\"\"Forward solve a unit lower triangular system Ly = b for y\n",
    "    Parameters: \n",
    "      L: the matrix, must be square, lower triangular, with ones on the diagonal\n",
    "      b: the right-hand side vector\n",
    "      unit_diag: if True, assume the diagonal is all ones\n",
    "    Output:\n",
    "      y: the solution vector to L @ y == b\n",
    "    \"\"\"\n",
    "    \n",
    "    # Check the input\n",
    "    m, n = L.shape\n",
    "    assert m == n, \"matrix L must be square\"\n",
    "    assert np.all(np.tril(L) == L), \"matrix L must be lower triangular\"\n",
    "    if unit_diag:\n",
    "        assert np.all(np.diag(L) == 1), \"matrix L must have ones on the diagonal\"\n",
    "    \n",
    "    # Make a copy of the rhs that we will transform into the solution\n",
    "    assert b.ndim == 1, \"right-hand side must be a 1-dimensional vector\"\n",
    "    assert b.shape[0] == n, \"right-hand side must be same size as matrix\"\n",
    "    y = b.astype(np.float64).copy()\n",
    "    \n",
    "    # Forward solve\n",
    "    for col in range(n):\n",
    "        if not unit_diag:\n",
    "            y[col] /= L[col, col]\n",
    "        y[col+1:] -= y[col] * L[col+1:, col]\n",
    "        \n",
    "    return y"
   ]
  },
  {
   "cell_type": "code",
   "execution_count": 588,
   "id": "f84b7458",
   "metadata": {},
   "outputs": [],
   "source": [
    "#cs111.Usolve()\n",
    "def Usolve(U, y, unit_diag=False):\n",
    "    \"\"\"Backward solve an upper triangular system Ux = y for x\n",
    "    Parameters: \n",
    "      U: the matrix, must be square, upper triangular, with nonzeros on the diagonal\n",
    "      y: the right-hand side vector\n",
    "      unit_diag: if True, assume the diagonal is all ones\n",
    "    Output:\n",
    "      x: the solution vector to U @ x == y\n",
    "    \"\"\"\n",
    "    # Check the input\n",
    "    m, n = U.shape\n",
    "    assert m == n, \"matrix must be square\"\n",
    "    assert np.all(np.triu(U) == U), \"matrix U must be upper triangular\"\n",
    "    if unit_diag:\n",
    "        assert np.all(np.diag(U) == 1), \"matrix U must have ones on the diagonal\"\n",
    "\n",
    "    # Make a copy of the rhs that we will transform into the solution\n",
    "    assert y.ndim == 1, \"right-hand side must be a 1-dimensional vector\"\n",
    "    assert y.shape[0] == n, \"right-hand side must be same size as matrix\"\n",
    "    x = y.astype(np.float64).copy()\n",
    "\n",
    "    # Back solve\n",
    "    for col in reversed(range(n)):\n",
    "        if not unit_diag:\n",
    "            x[col] /= U[col, col]\n",
    "        x[:col] -= x[col] * U[:col, col]\n",
    "        \n",
    "    return x"
   ]
  },
  {
   "cell_type": "markdown",
   "id": "9475a9f3",
   "metadata": {},
   "source": [
    "When solving $Ax=b$, we used $(PA=LU)\\Rightarrow(A=P^TLU)$ to substitute: $$Ax=b \\Rightarrow (P^TLU)x=b \\Rightarrow LUx=Pb$$ Then we set $y=Ux \\text{ and solved }Ly=Pb \\text{ by using }$ $$y = Lsolve(L,b[p])$$After, we got our solution by using $$x=Usolve(U,y)$$Now we're solving $A^Tx=b$Transpose both sides $$(LU=PA) \\Rightarrow ((LU)^{T}=(PA)^{T})$$Simplify$$\\Rightarrow U^{T}L^{T}=A^{T}P^{T}$$$$\\Rightarrow A^T = U^TL^TP$$Substituting $$A^Tx=b\\Rightarrow (U^TL^TP)x=b$$ we have $$U^T(L^TPx)=b$$"
   ]
  },
  {
   "cell_type": "markdown",
   "id": "b931e5a0",
   "metadata": {},
   "source": [
    "## Homework 3 \n",
    "## Problem 1"
   ]
  },
  {
   "cell_type": "code",
   "execution_count": 7,
   "id": "f67e40d8",
   "metadata": {},
   "outputs": [
    {
     "name": "stdout",
     "output_type": "stream",
     "text": [
      "A: \n",
      " [[0.4674 0.9857 0.3668 0.6576 0.767  0.7292]\n",
      " [0.9739 0.4032 0.0443 0.6854 0.7587 0.9184]\n",
      " [0.5428 0.4715 0.091  0.4718 0.7177 0.4702]\n",
      " [0.7252 0.8702 0.1897 0.0736 0.5873 0.8138]\n",
      " [0.84   0.3914 0.7607 0.488  0.3282 0.7324]\n",
      " [0.8315 0.2754 0.9995 0.6815 0.8485 0.4152]]\n",
      "\n",
      "b: \n",
      " [0.7463 0.592  0.3302 0.7511 0.8578 0.9784]\n",
      "\n",
      "x: \n",
      " [ 1.4841  2.3734 -4.057   0.4919 -1.8213  1.343 ]\n",
      "\n",
      "relative residual norm =\n",
      " 5.384326597898874e-16\n"
     ]
    }
   ],
   "source": [
    "A = np.random.rand(6,6)\n",
    "b = np.random.rand(6)\n",
    "print(\"A: \\n\", A)\n",
    "print(\"\\nb: \\n\", b)\n",
    "\n",
    "L, U, p = cs111.LUfactor(A)\n",
    "Ptrans = np.eye(len(p))[p,:].T # create matrix P from p, tranpose it\n",
    "pinv = np.array(np.where(Ptrans[:,:]==1))[1] # find pinv\n",
    "\n",
    "y = cs111.Lsolve(U.T,b)\n",
    "d = cs111.Usolve(L.T,y,unit_diag=True)\n",
    "x = d[pinv] #permute the final answer\n",
    "res = npla.norm(b - A.T@x) / npla.norm(b) #relative res norm\n",
    "print(\"\\nx: \\n\", x)\n",
    "print(\"\\nrelative residual norm =\\n\", res)"
   ]
  },
  {
   "cell_type": "markdown",
   "id": "a8beda5b",
   "metadata": {},
   "source": [
    "## Problem 2"
   ]
  },
  {
   "cell_type": "markdown",
   "id": "4815cfeb",
   "metadata": {},
   "source": [
    "We have this linear system:\n",
    "$$\\begin{pmatrix}\n",
    "\\alpha & 1\\\\\n",
    "1 & 1\n",
    "\\end{pmatrix}\\begin{pmatrix}\n",
    "x_0\\\\\n",
    "x_1\n",
    "\\end{pmatrix}=\\begin{pmatrix}\n",
    "1-\\alpha\\\\\n",
    "0\n",
    "\\end{pmatrix}\\text{ for some }\\alpha < 1.$$"
   ]
  },
  {
   "cell_type": "code",
   "execution_count": 146,
   "id": "91daf8a5",
   "metadata": {},
   "outputs": [
    {
     "name": "stdout",
     "output_type": "stream",
     "text": [
      "PART ONE\n",
      "\n",
      "\n",
      "Pivoting =  True \n",
      "\n",
      "\n",
      "alpha =  0.0001\n",
      "condition number of A =  2.618385273654827\n",
      "computed x =  [-1.  1.]\n",
      "norm of the error =  0.0\n",
      "relative residual norm =  0.0 \n",
      "\n",
      "alpha =  1e-08\n",
      "condition number of A =  2.618034023874506\n",
      "computed x =  [-1.  1.]\n",
      "norm of the error =  0.0\n",
      "relative residual norm =  0.0 \n",
      "\n",
      "alpha =  1e-12\n",
      "condition number of A =  2.618033988753407\n",
      "computed x =  [-1.  1.]\n",
      "norm of the error =  0.0\n",
      "relative residual norm =  0.0 \n",
      "\n",
      "alpha =  1e-16\n",
      "condition number of A =  2.6180339887498953\n",
      "computed x =  [-1.  1.]\n",
      "norm of the error =  0.0\n",
      "relative residual norm =  0.0 \n",
      "\n",
      "alpha =  1e-20\n",
      "condition number of A =  2.6180339887498953\n",
      "computed x =  [-1.  1.]\n",
      "norm of the error =  0.0\n",
      "relative residual norm =  0.0 \n",
      "\n",
      "\n",
      "\n",
      "Pivoting =  False \n",
      "\n",
      "\n",
      "alpha =  0.0001\n",
      "condition number of A =  2.618385273654827\n",
      "computed x =  [-1.  1.]\n",
      "norm of the error =  1.1013412404281553e-13\n",
      "relative residual norm =  1.1014513855667119e-13 \n",
      "\n",
      "alpha =  1e-08\n",
      "condition number of A =  2.618034023874506\n",
      "computed x =  [-1.  1.]\n",
      "norm of the error =  5.024759275329416e-09\n",
      "relative residual norm =  5.024759325577009e-09 \n",
      "\n",
      "alpha =  1e-12\n",
      "condition number of A =  2.618033988753407\n",
      "computed x =  [-1.  1.]\n",
      "norm of the error =  2.212172012150404e-05\n",
      "relative residual norm =  2.212172012152616e-05 \n",
      "\n",
      "alpha =  1e-16\n",
      "condition number of A =  2.6180339887498953\n",
      "computed x =  [1.1102 1.    ]\n",
      "norm of the error =  2.1102230246251565\n",
      "relative residual norm =  2.110223024625157 \n",
      "\n",
      "alpha =  1e-20\n",
      "condition number of A =  2.6180339887498953\n",
      "computed x =  [0. 1.]\n",
      "norm of the error =  1.0\n",
      "relative residual norm =  1.0 \n",
      "\n",
      "PART TWO\n",
      "\n",
      "\n",
      "Pivoting =  True \n",
      "\n",
      "\n",
      "alpha =  0.0001\n",
      "condition number of A =  40002.00007504555\n",
      "computed x =  [-1.  1.]\n",
      "norm of the error =  2.3488583181909273e-13\n",
      "relative residual norm =  1.1018204577883939e-13 \n",
      "\n",
      "alpha =  1e-08\n",
      "condition number of A =  399999992.40613085\n",
      "computed x =  [-1.  1.]\n",
      "norm of the error =  1.0153631235080597e-08\n",
      "relative residual norm =  6.0774709918447105e-09 \n",
      "\n",
      "alpha =  1e-12\n",
      "condition number of A =  3997936426769.096\n",
      "computed x =  [-0.9999  0.9999]\n",
      "norm of the error =  0.00012571323468403843\n",
      "relative residual norm =  2.212172012148393e-05 \n",
      "\n",
      "alpha =  1e-16\n",
      "condition number of A =  5.961777047638983e+16\n",
      "Answer not returned \n",
      "\n",
      "alpha =  1e-20\n",
      "condition number of A =  5.961777047638983e+16\n",
      "Answer not returned \n",
      "\n",
      "\n",
      "\n",
      "Pivoting =  False \n",
      "\n",
      "\n",
      "alpha =  0.0001\n",
      "condition number of A =  40002.00007504555\n",
      "computed x =  [-1.  1.]\n",
      "norm of the error =  2.3488583181909273e-13\n",
      "relative residual norm =  1.1018204577883939e-13 \n",
      "\n",
      "alpha =  1e-08\n",
      "condition number of A =  399999992.40613085\n",
      "computed x =  [-1.  1.]\n",
      "norm of the error =  1.0153631235080597e-08\n",
      "relative residual norm =  6.0774709918447105e-09 \n",
      "\n",
      "alpha =  1e-12\n",
      "condition number of A =  3997936426769.096\n",
      "computed x =  [-0.9999  0.9999]\n",
      "norm of the error =  0.00012571323468403843\n",
      "relative residual norm =  2.212172012148393e-05 \n",
      "\n",
      "alpha =  1e-16\n",
      "condition number of A =  5.961777047638983e+16\n",
      "Answer not returned \n",
      "\n",
      "alpha =  1e-20\n",
      "condition number of A =  5.961777047638983e+16\n",
      "Answer not returned \n",
      "\n"
     ]
    }
   ],
   "source": [
    "alpha = np.array([10.0**(-4.0), 10.0**(-8.0), \n",
    "                  10.0**(-12.0), 10.0**(-16.0), 10.0**(-20.0)])\n",
    "x_exact = np.array([-1,1])\n",
    "\n",
    "print(\"PART ONE\")\n",
    "for j in np.array([True, False]):\n",
    "    print(\"\\n\\nPivoting = \", j, \"\\n\\n\")\n",
    "    for i in alpha:\n",
    "        print(\"alpha = \", i)\n",
    "        A = np.array([[i,1],[1,1]])\n",
    "        b = np.array([1-i,0])\n",
    "        ans, res = cs111.LUsolve(A,b,pivoting=j)\n",
    "        error = x_exact - ans\n",
    "        print(\"condition number of A = \", npla.cond(A,2))\n",
    "        print(\"computed x = \", ans)\n",
    "        print(\"norm of the error = \", npla.norm(error))\n",
    "        print(\"relative residual norm = \", res, \"\\n\")\n",
    "        \n",
    "print(\"PART TWO\")\n",
    "for j in np.array([True, False]):\n",
    "    print(\"\\n\\nPivoting = \", j, \"\\n\\n\")\n",
    "    for i in alpha:\n",
    "        print(\"alpha = \", i)\n",
    "        A = np.array([[1+i,1],[1,1]])\n",
    "        b = np.array([-i,0])\n",
    "        print(\"condition number of A = \", npla.cond(A,2))\n",
    "        try:\n",
    "            ans, res = cs111.LUsolve(A,b,pivoting=j)\n",
    "            error = x_exact - ans\n",
    "            print(\"computed x = \", ans)\n",
    "            print(\"norm of the error = \", npla.norm(error))\n",
    "            print(\"relative residual norm = \", res, \"\\n\")\n",
    "        except:\n",
    "            print(\"Answer not returned \\n\")"
   ]
  },
  {
   "cell_type": "code",
   "execution_count": 165,
   "id": "b528a383",
   "metadata": {},
   "outputs": [
    {
     "name": "stdout",
     "output_type": "stream",
     "text": [
      "[[1 1]\n",
      " [1 1]]\n"
     ]
    },
    {
     "ename": "AssertionError",
     "evalue": "can't find nonzero pivot, matrix is singular",
     "output_type": "error",
     "traceback": [
      "\u001b[0;31m---------------------------------------------------------------------------\u001b[0m",
      "\u001b[0;31mAssertionError\u001b[0m                            Traceback (most recent call last)",
      "\u001b[0;32m<ipython-input-165-f0a5a667eccc>\u001b[0m in \u001b[0;36m<module>\u001b[0;34m\u001b[0m\n\u001b[1;32m      1\u001b[0m \u001b[0mA\u001b[0m \u001b[0;34m=\u001b[0m \u001b[0mnp\u001b[0m\u001b[0;34m.\u001b[0m\u001b[0marray\u001b[0m\u001b[0;34m(\u001b[0m\u001b[0;34m[\u001b[0m\u001b[0;34m[\u001b[0m\u001b[0;36m1\u001b[0m\u001b[0;34m,\u001b[0m\u001b[0;36m1\u001b[0m\u001b[0;34m]\u001b[0m\u001b[0;34m,\u001b[0m\u001b[0;34m[\u001b[0m\u001b[0;36m1\u001b[0m\u001b[0;34m,\u001b[0m\u001b[0;36m1\u001b[0m\u001b[0;34m]\u001b[0m\u001b[0;34m]\u001b[0m\u001b[0;34m)\u001b[0m\u001b[0;34m\u001b[0m\u001b[0;34m\u001b[0m\u001b[0m\n\u001b[1;32m      2\u001b[0m \u001b[0mprint\u001b[0m\u001b[0;34m(\u001b[0m\u001b[0mA\u001b[0m\u001b[0;34m)\u001b[0m\u001b[0;34m\u001b[0m\u001b[0;34m\u001b[0m\u001b[0m\n\u001b[0;32m----> 3\u001b[0;31m \u001b[0mL\u001b[0m\u001b[0;34m,\u001b[0m \u001b[0mU\u001b[0m\u001b[0;34m,\u001b[0m \u001b[0mp\u001b[0m \u001b[0;34m=\u001b[0m \u001b[0mcs111\u001b[0m\u001b[0;34m.\u001b[0m\u001b[0mLUfactor\u001b[0m\u001b[0;34m(\u001b[0m\u001b[0mA\u001b[0m\u001b[0;34m)\u001b[0m\u001b[0;34m\u001b[0m\u001b[0;34m\u001b[0m\u001b[0m\n\u001b[0m",
      "\u001b[0;32m~/desktop/UCSB/CS/CS111/cs111-2021-fall/Python/cs111/LU.py\u001b[0m in \u001b[0;36mLUfactor\u001b[0;34m(A, pivoting)\u001b[0m\n\u001b[1;32m    141\u001b[0m         \u001b[0;32mif\u001b[0m \u001b[0mpivoting\u001b[0m\u001b[0;34m:\u001b[0m\u001b[0;34m\u001b[0m\u001b[0;34m\u001b[0m\u001b[0m\n\u001b[1;32m    142\u001b[0m             \u001b[0mpiv_row\u001b[0m \u001b[0;34m=\u001b[0m \u001b[0mpiv_col\u001b[0m \u001b[0;34m+\u001b[0m \u001b[0mnp\u001b[0m\u001b[0;34m.\u001b[0m\u001b[0margmax\u001b[0m\u001b[0;34m(\u001b[0m\u001b[0mnp\u001b[0m\u001b[0;34m.\u001b[0m\u001b[0mabs\u001b[0m\u001b[0;34m(\u001b[0m\u001b[0mLU\u001b[0m\u001b[0;34m[\u001b[0m\u001b[0mpiv_col\u001b[0m\u001b[0;34m:\u001b[0m\u001b[0;34m,\u001b[0m \u001b[0mpiv_col\u001b[0m\u001b[0;34m]\u001b[0m\u001b[0;34m)\u001b[0m\u001b[0;34m)\u001b[0m\u001b[0;34m\u001b[0m\u001b[0;34m\u001b[0m\u001b[0m\n\u001b[0;32m--> 143\u001b[0;31m             \u001b[0;32massert\u001b[0m \u001b[0mLU\u001b[0m\u001b[0;34m[\u001b[0m\u001b[0mpiv_row\u001b[0m\u001b[0;34m,\u001b[0m \u001b[0mpiv_col\u001b[0m\u001b[0;34m]\u001b[0m \u001b[0;34m!=\u001b[0m \u001b[0;36m0.\u001b[0m\u001b[0;34m,\u001b[0m \u001b[0;34m\"can't find nonzero pivot, matrix is singular\"\u001b[0m\u001b[0;34m\u001b[0m\u001b[0;34m\u001b[0m\u001b[0m\n\u001b[0m\u001b[1;32m    144\u001b[0m             \u001b[0mLU\u001b[0m\u001b[0;34m[\u001b[0m\u001b[0;34m[\u001b[0m\u001b[0mpiv_col\u001b[0m\u001b[0;34m,\u001b[0m \u001b[0mpiv_row\u001b[0m\u001b[0;34m]\u001b[0m\u001b[0;34m,\u001b[0m \u001b[0;34m:\u001b[0m\u001b[0;34m]\u001b[0m  \u001b[0;34m=\u001b[0m \u001b[0mLU\u001b[0m\u001b[0;34m[\u001b[0m\u001b[0;34m[\u001b[0m\u001b[0mpiv_row\u001b[0m\u001b[0;34m,\u001b[0m \u001b[0mpiv_col\u001b[0m\u001b[0;34m]\u001b[0m\u001b[0;34m,\u001b[0m \u001b[0;34m:\u001b[0m\u001b[0;34m]\u001b[0m\u001b[0;34m\u001b[0m\u001b[0;34m\u001b[0m\u001b[0m\n\u001b[1;32m    145\u001b[0m             \u001b[0mp\u001b[0m\u001b[0;34m[\u001b[0m\u001b[0;34m[\u001b[0m\u001b[0mpiv_col\u001b[0m\u001b[0;34m,\u001b[0m \u001b[0mpiv_row\u001b[0m\u001b[0;34m]\u001b[0m\u001b[0;34m]\u001b[0m      \u001b[0;34m=\u001b[0m \u001b[0mp\u001b[0m\u001b[0;34m[\u001b[0m\u001b[0;34m[\u001b[0m\u001b[0mpiv_row\u001b[0m\u001b[0;34m,\u001b[0m \u001b[0mpiv_col\u001b[0m\u001b[0;34m]\u001b[0m\u001b[0;34m]\u001b[0m\u001b[0;34m\u001b[0m\u001b[0;34m\u001b[0m\u001b[0m\n",
      "\u001b[0;31mAssertionError\u001b[0m: can't find nonzero pivot, matrix is singular"
     ]
    }
   ],
   "source": [
    "A = np.array([[1,1],[1,1]])\n",
    "print(A)\n",
    "L, U, p = cs111.LUfactor(A)"
   ]
  },
  {
   "cell_type": "markdown",
   "id": "fe0add8c",
   "metadata": {},
   "source": [
    "## Problem 3"
   ]
  },
  {
   "cell_type": "code",
   "execution_count": 172,
   "id": "61b2eddc",
   "metadata": {},
   "outputs": [],
   "source": [
    "def make_A_3D(k):\n",
    "    triples = []\n",
    "    for x in range(k):\n",
    "        for y in range(k):\n",
    "            for z in range(k)\n",
    "                row = x + k*y + k*k*z # row for grid point (x,y,z)\n",
    "                col = row\n",
    "                triples.append((row, col, 6.0)) # diagonal elements\n",
    "                \n",
    "                # x dimension\n",
    "                if x > 0:\n",
    "                    col = row - 1\n",
    "                    triples.append((row, col, -1.0))\n",
    "                if x < k - 1:\n",
    "                    col = row + 1\n",
    "                    triples.append((row, col, -1.0))\n",
    "                    \n",
    "                # y dimension\n",
    "                if y > 0:\n",
    "                    col = row - k\n",
    "                    triples.append((row, col, -1.0))\n",
    "                if y < k - 1:\n",
    "                    col = row + k\n",
    "                    triples.append((row, col, -1.0))\n",
    "                    \n",
    "                # z dimension\n",
    "                if z > 0:\n",
    "                    col = row - k*k\n",
    "                    triples.append((row, col, -1.0))\n",
    "                if z < k - 1:\n",
    "                    col = row + k*k\n",
    "                    triples.append((row, col, -1.0))\n",
    "\n",
    "    ndim = k*k*k # 3 dimensions\n",
    "    rownum = [t[0] for t in triples]\n",
    "    colnum = [t[1] for t in triples]\n",
    "    values = [t[2] for t in triples]\n",
    "    \n",
    "    A = scipy.sparse.csr_matrix((values, (rownum, colnum)), shape = (ndim, ndim))\n",
    "    return A"
   ]
  },
  {
   "cell_type": "code",
   "execution_count": 189,
   "id": "d9c6c3a8",
   "metadata": {},
   "outputs": [
    {
     "name": "stdout",
     "output_type": "stream",
     "text": [
      "k: 4\n",
      "dimensions: (64, 64)\n",
      "nonzeros: 352\n"
     ]
    },
    {
     "data": {
      "text/plain": [
       "(0.0, 30.0, 30.0, 0.0)"
      ]
     },
     "execution_count": 189,
     "metadata": {},
     "output_type": "execute_result"
    },
    {
     "data": {
      "image/png": "[encoded data removed]",
      "text/plain": [
       "<Figure size 432x288 with 1 Axes>"
      ]
     },
     "metadata": {
      "needs_background": "light"
     },
     "output_type": "display_data"
    }
   ],
   "source": [
    "k = 4\n",
    "A = make_A_3D(k)\n",
    "print(\"k:\", k)\n",
    "print(\"dimensions:\", A.shape)\n",
    "print(\"nonzeros:\", A.nnz)\n",
    "#print(\"A as sparse matrix:\\n\", A)\n",
    "#print(\"A as dense matrix:\\n\", A.toarray())\n",
    "plt.spy(A)\n",
    "x_min = 0\n",
    "x_max = 30\n",
    "y_min = 30\n",
    "y_max = 0\n",
    "plt.axis([x_min, x_max, y_min, y_max])"
   ]
  },
  {
   "cell_type": "code",
   "execution_count": 6,
   "id": "64bceb3a",
   "metadata": {},
   "outputs": [
    {
     "name": "stdout",
     "output_type": "stream",
     "text": [
      "\n",
      "\n"
     ]
    },
    {
     "data": {
      "text/plain": [
       "1.0"
      ]
     },
     "execution_count": 6,
     "metadata": {},
     "output_type": "execute_result"
    }
   ],
   "source": [
    "A = np.array([[2,-2],[0,2]])\n",
    "b = np.array([1,1])\n",
    "x = np.array([2,1])\n",
    "\n",
    "residual = b-A@x\n",
    "residual\n",
    "print(\"\\n\")\n",
    "res_norm = npla.norm(b - A@x) / npla.norm(b)\n",
    "res_norm"
   ]
  }
 ],
 "metadata": {
  "kernelspec": {
   "display_name": "Python 3",
   "language": "python",
   "name": "python3"
  },
  "language_info": {
   "codemirror_mode": {
    "name": "ipython",
    "version": 3
   },
   "file_extension": ".py",
   "mimetype": "text/x-python",
   "name": "python",
   "nbconvert_exporter": "python",
   "pygments_lexer": "ipython3",
   "version": "3.8.8"
  }
 },
 "nbformat": 4,
 "nbformat_minor": 5
}
