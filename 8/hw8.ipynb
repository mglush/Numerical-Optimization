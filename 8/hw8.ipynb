{
 "cells": [
  {
   "cell_type": "code",
   "execution_count": 3,
   "id": "94d2dffb",
   "metadata": {},
   "outputs": [],
   "source": [
    "import sys\n",
    "\n",
    "sys.path.append(\"/Users/Mike/desktop/UCSB/CS/CS111/cs111-2021-fall/Python\") \n",
    "\n",
    "import os\n",
    "import time\n",
    "import math\n",
    "import numpy as np\n",
    "import numpy.linalg as npla\n",
    "import scipy\n",
    "from scipy import linalg as spla\n",
    "import scipy.sparse\n",
    "import scipy.sparse.linalg\n",
    "from scipy import integrate\n",
    "import networkx as nx\n",
    "import json\n",
    "import cs111\n",
    "import matplotlib\n",
    "%matplotlib tk \n",
    "import matplotlib.pyplot as plt\n",
    "from matplotlib import cm\n",
    "from mpl_toolkits.mplot3d import axes3d\n",
    "\n",
    "np.set_printoptions(precision = 4)"
   ]
  },
  {
   "cell_type": "markdown",
   "id": "81c68577",
   "metadata": {},
   "source": [
    "## 1 - Temperature to Laplacian"
   ]
  },
  {
   "cell_type": "code",
   "execution_count": 34,
   "id": "cbeeef6d",
   "metadata": {},
   "outputs": [],
   "source": [
    "def nonZeroRowSums(A):\n",
    "    res = [sum(A[i,:]) for i in range(A.shape[0])]\n",
    "    res = [i for i in res if i != 0]\n",
    "    return res"
   ]
  },
  {
   "cell_type": "code",
   "execution_count": 43,
   "id": "6c32e08b",
   "metadata": {},
   "outputs": [
    {
     "name": "stdout",
     "output_type": "stream",
     "text": [
      "number of rows that need to be changed = 396\n"
     ]
    }
   ],
   "source": [
    "A = cs111.make_A(100)\n",
    "rows = nonZeroRowSums(A.toarray())\n",
    "print(\"number of rows that need to be changed =\", len(rows))"
   ]
  },
  {
   "cell_type": "markdown",
   "id": "5c48b545",
   "metadata": {},
   "source": [
    "## 2.1 - How many cuts?"
   ]
  },
  {
   "cell_type": "markdown",
   "id": "e4cc85cd",
   "metadata": {},
   "source": [
    "Given the formula $$xLx^T = \\sum_{(i,j)\\in E}{(x(i) - x(j))^2}$$ we can inspect what happens to the sum for every edge that crosses the cut. Now, the difference $$x(i) - x(j) = 0 \\text{ or }2.$$ It is 0 if the $i$ and $j$ are on the same side of the cut, and it is 2 if the edge connecting $i$ and $j$ crosses the cut.$\\newline\\newline$ Let's say $i$ and $j$ have an edge between them. Then $$x(i) - x(j) = 2 \\text{, and }x(j) - x(i) = 2.$$ This $2$ is then squared through the $$(x(i) - x(j))^2$$ expression. As a result, the edge the crosses the cut produces a value of $8$ through the summation instead of the necessary value of $2$.$\\newline$This means that each cut is counted $\\frac{8}{2}=4$ times. Since $$xLx^T = \\sum_{(i,j)\\in E}{(x(i) - x(j))^2},$$ we can conclude that the number of edges crossing a cut in any graph is $$\\frac{xLx^T}{4},$$ meaning that our value $\\alpha$ is $$\\alpha = \\frac{1}{4}$$"
   ]
  },
  {
   "cell_type": "markdown",
   "id": "baeaa9a0",
   "metadata": {},
   "source": [
    "## 2.2 - Coordinate Cut"
   ]
  },
  {
   "cell_type": "code",
   "execution_count": 4,
   "id": "9ea5bddb",
   "metadata": {},
   "outputs": [],
   "source": [
    "# load the airfoil graph\n",
    "G, xycoords = cs111.read_mesh('airfoil1')\n",
    "# calculate the median\n",
    "new_xy = [xycoords[i] for i in range(len(xycoords))]\n",
    "median_coordinate = np.median(new_xy, axis = 0)[1] # median of the y coordinate"
   ]
  },
  {
   "cell_type": "code",
   "execution_count": 47,
   "id": "b3f8e8bd",
   "metadata": {},
   "outputs": [],
   "source": [
    "# plot\n",
    "first_colors = ['r' if xycoords[v][1] < median_coordinate else 'b' for v in G.nodes()]\n",
    "plt.ion()\n",
    "plt.figure(figsize=(6,6))\n",
    "plt.title('geometric partition')\n",
    "plt.axis('equal')\n",
    "nx.draw(G, pos = xycoords, node_size = 4, node_shape = 'o', node_color = first_colors)"
   ]
  },
  {
   "cell_type": "code",
   "execution_count": 45,
   "id": "03966067",
   "metadata": {},
   "outputs": [
    {
     "name": "stdout",
     "output_type": "stream",
     "text": [
      "num of edges that cross the cut =  148.0\n",
      "num of red points = 2126\n",
      "num of blue points = 2127\n"
     ]
    }
   ],
   "source": [
    "# calculate vector x based on the red/blue coloring\n",
    "my_list = [1 if first_colors[i] == 'r' else -1 for i in range(len(first_colors))]\n",
    "x = np.array(my_list)\n",
    "# make the laplacian of G\n",
    "L = nx.linalg.laplacian_matrix(G).toarray()\n",
    "print(\"num of edges that cross the cut = \", x @ L @ x.T * 1/4)\n",
    "print(\"num of red points =\" , first_colors.count('r'))\n",
    "print(\"num of blue points =\" , first_colors.count('b'))"
   ]
  },
  {
   "cell_type": "code",
   "execution_count": 49,
   "id": "0adc11e3",
   "metadata": {},
   "outputs": [],
   "source": [
    "plt.close('all')"
   ]
  },
  {
   "cell_type": "markdown",
   "id": "99829bf8",
   "metadata": {},
   "source": [
    "## 2.3 - Spectral Cut"
   ]
  },
  {
   "cell_type": "code",
   "execution_count": 9,
   "id": "82354a60",
   "metadata": {},
   "outputs": [],
   "source": [
    "# make the laplacian of G\n",
    "L = nx.linalg.laplacian_matrix(G).toarray()\n",
    "# eigenvectors of the laplacian L\n",
    "lam, W = spla.eigh(L)\n",
    "# finding the fiedler vector of L\n",
    "fiedler_vector = np.transpose(W)[1]\n",
    "# calculate the median of fiedler_vector\n",
    "median_fiedler_vec_value = np.median(fiedler_vector)"
   ]
  },
  {
   "cell_type": "code",
   "execution_count": 48,
   "id": "4ca0c4d9",
   "metadata": {},
   "outputs": [],
   "source": [
    "# now we label each element with the corresponding element\n",
    "# of the Fiedler vector and color it based on whether that \n",
    "# label is smaller or larger than the median value we just computed\n",
    "second_colors = ['r' if fiedler_vector[v] < median_fiedler_vec_value else 'b' for v in G.nodes()]\n",
    "plt.ion()\n",
    "plt.figure(figsize=(6,6))\n",
    "plt.title('spectral partition')\n",
    "plt.axis('equal')\n",
    "nx.draw(G, pos = xycoords, node_size = 4, node_shape = 'o', node_color = second_colors)"
   ]
  },
  {
   "cell_type": "code",
   "execution_count": 46,
   "id": "64c00a1b",
   "metadata": {},
   "outputs": [
    {
     "name": "stdout",
     "output_type": "stream",
     "text": [
      "num of edges that cross the cut = 132.0\n",
      "num of red points = 2126\n",
      "num of blue points = 2127\n"
     ]
    }
   ],
   "source": [
    "# calculate vector x based on the red/blue coloring\n",
    "my_list = [1 if second_colors[i] == 'r' else -1 for i in range(len(second_colors))]\n",
    "x = np.array(my_list)\n",
    "# how many edges cross the cut?\n",
    "print(\"num of edges that cross the cut =\", x @ L @ x.T * 1/4)\n",
    "print(\"num of red points =\", my_list.count(1))\n",
    "print(\"num of blue points =\", my_list.count(-1))"
   ]
  }
 ],
 "metadata": {
  "kernelspec": {
   "display_name": "Python 3",
   "language": "python",
   "name": "python3"
  },
  "language_info": {
   "codemirror_mode": {
    "name": "ipython",
    "version": 3
   },
   "file_extension": ".py",
   "mimetype": "text/x-python",
   "name": "python",
   "nbconvert_exporter": "python",
   "pygments_lexer": "ipython3",
   "version": "3.8.8"
  }
 },
 "nbformat": 4,
 "nbformat_minor": 5
}
