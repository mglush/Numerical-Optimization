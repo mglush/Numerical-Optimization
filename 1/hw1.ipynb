{
 "cells": [
  {
   "cell_type": "code",
   "execution_count": 62,
   "id": "a9d6f7fe",
   "metadata": {},
   "outputs": [],
   "source": [
    "# Michael Glushchenko, HW1 Python Code, CS111 F21\n",
    "\n",
    "import sys\n",
    "sys.path.append(\"/Users/Mike/desktop/UCSB/CS/CS111/cs111-2021-fall\") \n",
    "\n",
    "import os\n",
    "import time\n",
    "import math\n",
    "import numpy as np\n",
    "import numpy.linalg as npla\n",
    "\n",
    "import matplotlib\n",
    "%matplotlib ipympl\n",
    "import matplotlib.pyplot as plt\n",
    "\n",
    "np.set_printoptions(precision = 4)"
   ]
  },
  {
   "cell_type": "markdown",
   "id": "d32021d9",
   "metadata": {},
   "source": [
    "### Problem 1"
   ]
  },
  {
   "cell_type": "code",
   "execution_count": 97,
   "id": "eb4c4b6f",
   "metadata": {},
   "outputs": [
    {
     "name": "stdout",
     "output_type": "stream",
     "text": [
      "A transpose: \n",
      " [[ 3  0  1]\n",
      " [-1  1  0]\n",
      " [ 2  2 -1]]\n",
      "A squared: \n",
      " [[11 -4  2]\n",
      " [ 2  1  0]\n",
      " [ 2 -1  3]]\n",
      "A transpose times A: \n",
      " [[10 -3  5]\n",
      " [-3  2  0]\n",
      " [ 5  0  9]]\n"
     ]
    }
   ],
   "source": [
    "A = np.array([[3, -1, 2], [0, 1, 2], [1, 0, -1]]) # matrix A for problem 1\n",
    "print(\"A transpose: \\n\", A.T) # A^T\n",
    "print(\"A squared: \\n\", A @ A) # A^2\n",
    "print(\"A transpose times A: \\n\", (A.T) @ (A)) # (A^T)*A"
   ]
  },
  {
   "cell_type": "markdown",
   "id": "a8ea881d",
   "metadata": {},
   "source": [
    "### Problem 2"
   ]
  },
  {
   "cell_type": "code",
   "execution_count": 87,
   "id": "f12a7305",
   "metadata": {},
   "outputs": [
    {
     "name": "stdout",
     "output_type": "stream",
     "text": [
      "The Eucledean norm of vector x is:  7.211102550927978\n"
     ]
    }
   ],
   "source": [
    "x = np.array([3, 1, 4, 1, 5]) # vector x for problem 2\n",
    "print(\"The Eucledean norm of vector x is: \", np.linalg.norm(x)) # problem 2 answer"
   ]
  },
  {
   "cell_type": "markdown",
   "id": "8744dee9",
   "metadata": {},
   "source": [
    "### Problem 3"
   ]
  },
  {
   "cell_type": "code",
   "execution_count": 88,
   "id": "f03f47e0",
   "metadata": {},
   "outputs": [],
   "source": [
    "A = np.array([[2, 3, 1], [0, 2, 3], [0, 1, 1]]) # matrix A for problem 3\n",
    "b = np.array([1, 7, 4]) # vector b for problem 3"
   ]
  },
  {
   "cell_type": "markdown",
   "id": "f787a0fa",
   "metadata": {},
   "source": [
    "### Problem 4"
   ]
  },
  {
   "cell_type": "code",
   "execution_count": 89,
   "id": "ee5a9bd9",
   "metadata": {},
   "outputs": [
    {
     "name": "stdout",
     "output_type": "stream",
     "text": [
      "The solution to Ax = b is:  [-6.5  5.  -1. ]\n"
     ]
    }
   ],
   "source": [
    "x = npla.solve(A, b) # solution vector x solves Ax = b\n",
    "print(\"The solution to Ax = b is: \", x) # problem 4 answer"
   ]
  },
  {
   "cell_type": "code",
   "execution_count": 92,
   "id": "ee6c761d",
   "metadata": {},
   "outputs": [
    {
     "name": "stdout",
     "output_type": "stream",
     "text": [
      "True\n"
     ]
    }
   ],
   "source": [
    "print(np.array_equal(b, A @ x)) # to confirm our answer"
   ]
  }
 ],
 "metadata": {
  "kernelspec": {
   "display_name": "Python 3",
   "language": "python",
   "name": "python3"
  },
  "language_info": {
   "codemirror_mode": {
    "name": "ipython",
    "version": 3
   },
   "file_extension": ".py",
   "mimetype": "text/x-python",
   "name": "python",
   "nbconvert_exporter": "python",
   "pygments_lexer": "ipython3",
   "version": "3.8.8"
  }
 },
 "nbformat": 4,
 "nbformat_minor": 5
}
